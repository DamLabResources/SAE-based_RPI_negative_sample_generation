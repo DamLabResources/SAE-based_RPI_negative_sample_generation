{
 "cells": [
  {
   "cell_type": "markdown",
   "metadata": {},
   "source": [
    "# Generating negative samples based on scoring gradients\n",
    "\n",
    "\\> Generating negative samples based target swapping on top FIRE or SAE difference magnitudes creates nonexistant specificity for the RPI107 evaluation set <br/>\n",
    "\\> Hypothesize that this is because generated negative samples are too obvious, which causes model to fail on edge cases <br/>\n",
    "\\> To test, we'll be generating negative samples based on gradiented FIRE/SAE difference magnitue scores <br/>\n",
    "\\> Seperate out into bins based on percentile and sampling different proportions from each sample <br/>\n",
    "\\> These will then be used to train models and observe performce differences on RPI1807 evaluation set <br/>"
   ]
  },
  {
   "cell_type": "code",
   "execution_count": 1,
   "metadata": {},
   "outputs": [],
   "source": [
    "# 1. Generate difference vectors between protein pairs\n",
    "# 2. Generate negative sampling distributor AND max/min sampling\n",
    "#### 3. Generate default hyperparameters for each model\n",
    "# 4. Load each model using default parameters\n",
    "# 5. Train models using each negative sampling method"
   ]
  },
  {
   "cell_type": "code",
   "execution_count": 2,
   "metadata": {},
   "outputs": [],
   "source": [
    "# 5:\n",
    "# load models w/ default parameters\n",
    "# load positive samples\n",
    "# generate negative samples w/ distribution & Extreme sampler\n",
    "# "
   ]
  },
  {
   "cell_type": "code",
   "execution_count": 2,
   "metadata": {},
   "outputs": [
    {
     "name": "stderr",
     "output_type": "stream",
     "text": [
      "/home/bobby/anaconda3/envs/NegativeSampling/lib/python3.8/site-packages/gensim/similarities/__init__.py:15: UserWarning: The gensim.similarities.levenshtein submodule is disabled, because the optional Levenshtein package <https://pypi.org/project/python-Levenshtein/> is unavailable. Install Levenhstein (e.g. `pip install python-Levenshtein`) to suppress this warning.\n",
      "  warnings.warn(msg)\n",
      "/home/bobby/anaconda3/envs/NegativeSampling/lib/python3.8/site-packages/sklearn/utils/deprecation.py:143: FutureWarning: The sklearn.utils.testing module is  deprecated in version 0.22 and will be removed in version 0.24. The corresponding classes / functions should instead be imported from sklearn.utils. Anything that cannot be imported from sklearn.utils is now part of the private API.\n",
      "  warnings.warn(message, FutureWarning)\n"
     ]
    }
   ],
   "source": [
    "import sys\n",
    "sys.path.append(\"..\")\n",
    "\n",
    "import pandas as pd\n",
    "from transformers import AutoTokenizer, AutoModel\n",
    "\n",
    "import torch\n",
    "from torch.utils.data import WeightedRandomSampler\n",
    "\n",
    "from tqdm.notebook import tqdm\n",
    "\n",
    "from sklearn.preprocessing import KBinsDiscretizer\n",
    "from sklearn.model_selection import train_test_split\n",
    "\n",
    "import fastai\n",
    "from fastai.basics import Learner, DataLoaders\n",
    "from fastai.vision.all import *\n",
    "from fastai.callback.all import *\n",
    "\n",
    "import seaborn as sbn\n",
    "import matplotlib.pyplot as plt\n",
    "import numpy as np\n",
    "\n",
    "# # DistributionSampler\n",
    "from Utils.negative_sampling import IterableProteinEmbedding, magnitude\n",
    "from Utils.misc import filter_sequences_by_len_from_fasta\n",
    "from Utils.encoders import SkipGramEmbedder\n",
    "\n",
    "from lazypredict.Supervised import LazyClassifier\n",
    "\n",
    "import warnings\n",
    "warnings.filterwarnings('ignore')"
   ]
  },
  {
   "cell_type": "markdown",
   "metadata": {},
   "source": [
    "## Methods overview\n"
   ]
  },
  {
   "cell_type": "code",
   "execution_count": 2,
   "metadata": {
    "scrolled": true
   },
   "outputs": [],
   "source": [
    "SAVE = True\n",
    "SAMPLING_DISTRIBUTIONS = dict()\n",
    "\n",
    "############################################\n",
    "# Exclusive max sampling\n",
    "############################################\n",
    "\n",
    "# fig, axes = plt.subplots(3,4,figsize = (5.5,6))\n",
    "\n",
    "XTICKS = [1, 5, 10]\n",
    "XLIM = range(1,11)\n",
    "\n",
    "data = [1] + [0]*9\n",
    "\n",
    "# print(data)\n",
    "# print(data[::-1])\n",
    "# axes[0,0].bar(x = XLIM, height = data)\n",
    "# axes[0,0].set_title(\"Lowest\\nscores\")\n",
    "\n",
    "# axes[0,1].bar(x = XLIM, height = data[::-1])\n",
    "# axes[0,1].set_title(\"Highest\\nscores\")\n",
    "\n",
    "SAMPLING_DISTRIBUTIONS['lowest'] = data\n",
    "SAMPLING_DISTRIBUTIONS['highest']  = data[::-1]\n",
    "\n",
    "############################################\n",
    "# Uniform distribution\n",
    "############################################\n",
    "\n",
    "data = [.10]*10\n",
    "# print(data)\n",
    "\n",
    "# axes[0,2].bar(x =XLIM, height = data)\n",
    "# axes[0,2].set_title(\"Uniformly\\ndistributed\")\n",
    "\n",
    "SAMPLING_DISTRIBUTIONS['uniform']  = data\n",
    "\n",
    "############################################\n",
    "# Exponential distributions\n",
    "############################################\n",
    "\n",
    "x = 1\n",
    "data = list()\n",
    "for _ in range(10):\n",
    "    x /= 2\n",
    "    data.append(round(x,4))\n",
    "\n",
    "data[6] = 0.0088\n",
    "\n",
    "# print(data)\n",
    "# print(data[::-1])\n",
    "# axes[0,3].bar(x = XLIM, height = data)\n",
    "# axes[0,3].set_title(\"Exponentially\\ndistributed (low)\")\n",
    "\n",
    "# axes[1,0].bar(x = XLIM, height = data[::-1])\n",
    "# axes[1,0].set_title(\"Exponentially\\ndistributed (high)\")\n",
    "\n",
    "SAMPLING_DISTRIBUTIONS['expoential_low']   = data\n",
    "SAMPLING_DISTRIBUTIONS['expoential_high']  = data[::-1]\n",
    "\n",
    "############################################\n",
    "# Normal distribution\n",
    "############################################\n",
    "\n",
    "x = .5\n",
    "data = list()\n",
    "for _ in range(5):\n",
    "    x /= 2\n",
    "    data.append(round(x,6))\n",
    "\n",
    "# Just to make it sum to 100%, converting 0.125 --> 0.0088\n",
    "data[1] = 0.140625\n",
    "    \n",
    "data = data[::-1] + data\n",
    "\n",
    "# print(data)\n",
    "\n",
    "# axes[1,1].bar(x = XLIM, height = data)\n",
    "# axes[1,1].set_title(\"Normally\\ndistributed\")\n",
    "\n",
    "SAMPLING_DISTRIBUTIONS['normal'] = data\n",
    "\n",
    "####################################################\n",
    "# Normal distribution (slightly shifted and skewed)\n",
    "####################################################\n",
    "\n",
    "data = [ 0.0625, 0.140625, 0.30, 0.25, 0.125, .0625, 0.03125, .015, .008, .006-.000875]\n",
    "# print(data)\n",
    "# print(data[::-1])\n",
    "# axes[1,2].bar(x = XLIM, height = data)\n",
    "# axes[1,2].set_title(\"Slight\\nright skew\")\n",
    "\n",
    "# axes[1,3].bar(x = XLIM, height = data[::-1])\n",
    "# axes[1,3].set_title(\"Slight\\nleft skew\")\n",
    "\n",
    "SAMPLING_DISTRIBUTIONS['slight_right_skew'] = data\n",
    "SAMPLING_DISTRIBUTIONS['slight_left_skew']  = data[::-1]\n",
    "\n",
    "############################################\n",
    "# Normal distribution (major shift and skew)\n",
    "############################################\n",
    "\n",
    "data = [0.25, 0.30, 0.22, 0.11, 0.06, 0.03,0.015,0.01,0.004,0.001]\n",
    "\n",
    "# print(data)\n",
    "# print(data[::-1])\n",
    "# axes[2,0].bar(x = XLIM, height = data)\n",
    "# axes[2,0].set_title(\"Major\\nright skew\")\n",
    "\n",
    "# axes[2,1].bar(x = XLIM, height = data[::-1])\n",
    "# axes[2,1].set_title(\"Major\\nleft skew\")\n",
    "\n",
    "SAMPLING_DISTRIBUTIONS['major_right_skew'] = data\n",
    "SAMPLING_DISTRIBUTIONS['major_left_skew']  = data[::-1]\n",
    "\n",
    "########################################################\n",
    "# Figure Aesthetics\n",
    "########################################################\n",
    "FONTSIZE = 12\n",
    "\n",
    "# plt.setp(axes, xticks = [1,5,10], xticklabels = XTICKS)\n",
    "# sbn.despine()\n",
    "\n",
    "# axes[2,2].remove()\n",
    "# axes[2,3].remove()\n",
    "\n",
    "# plt.tight_layout()\n",
    "\n",
    "# if SAVE:\n",
    "#     plt.savefig(\"negative_gradient_sampling_strategies.png\", dpi = 300, bbox_inches = \"tight\")"
   ]
  },
  {
   "cell_type": "code",
   "execution_count": 3,
   "metadata": {},
   "outputs": [
    {
     "data": {
      "image/png": "[encoded data removed]",
      "text/plain": [
       "<Figure size 432x288 with 2 Axes>"
      ]
     },
     "metadata": {
      "needs_background": "light"
     },
     "output_type": "display_data"
    }
   ],
   "source": [
    "fig,ax = plt.subplots(1,1,figsize=(6,4))\n",
    "\n",
    "t = np.array([weights for weights in SAMPLING_DISTRIBUTIONS.values()])\n",
    "\n",
    "sbn.heatmap(t, cmap = \"Purples\", \n",
    "            vmax = 0.4,\n",
    "            annot = t, fmt=\".2f\",\n",
    "            cbar_kws={\"label\" : \"Bin weights\"})\n",
    "\n",
    "ax.set_xlabel(\"Magnitude bin\")\n",
    "\n",
    "ax.set_yticklabels([weights.replace(\"_\",\" \") for weights in SAMPLING_DISTRIBUTIONS.keys()], rotation = 0);\n",
    "\n",
    "# If percentage is less than 0.10, set text to be invisible\n",
    "for text in ax.texts:\n",
    "    if float(text.get_text()) < 0.10:\n",
    "        text.set_visible(False)\n",
    "\n",
    "# Remove bottom and left ticks\n",
    "ax.tick_params(left=False, bottom=False)\n",
    "        \n",
    "plt.tight_layout()\n",
    "plt.savefig(\"NegativeSamplingBinWeights.png\", dpi = 300)"
   ]
  },
  {
   "cell_type": "markdown",
   "metadata": {},
   "source": [
    "# Load data and take difference magnitudes"
   ]
  },
  {
   "cell_type": "code",
   "execution_count": 3,
   "metadata": {},
   "outputs": [],
   "source": [
    "def generate_all_combos(list1, list2, list_limit = None):\n",
    "    \"\"\"\n",
    "    Returns all combinations of items in two input lists\n",
    "    \n",
    "    ex)\n",
    "    ---\n",
    "    >>> x = [1,2,3]\n",
    "    >>> y = ['x','y']\n",
    "    >>> generate_all_combos(x,y)\n",
    "    [(1, 'x'), (1, 'y'), (2, 'x'), (2, 'y'), (3, 'x'), (3, 'y')]\n",
    "    \"\"\"\n",
    "    return [(i,j) for i in list1[:list_limit] for j in list2[:list_limit]]"
   ]
  },
  {
   "cell_type": "code",
   "execution_count": 4,
   "metadata": {},
   "outputs": [],
   "source": [
    "# Load swissprot and RNAInter\n",
    "# Take all protein combos\n",
    "\n",
    "from Bio import SeqIO\n",
    "\n",
    "# SWISS_PATH = \"../Data/RawData/uniprot_sprot.fasta\"\n",
    "\n",
    "reduced_positive_df = pd.read_csv(\"../Data/TrainingData/PositiveSamples/reduced_RNAInter_small_interactions_current.csv\")\n",
    "\n",
    "# with open(SWISS_PATH) as handle:\n",
    "#     swiss_fasta = [record for record in SeqIO.parse(handle, 'fasta') if len(record.seq) <= 110]\n",
    "\n",
    "# swiss = [\" \".join(protein) for protein in filter_sequences_by_len_from_fasta(SWISS_PATH, 110)]\n",
    "# reduced_positive_prot_seqs = "
   ]
  },
  {
   "cell_type": "code",
   "execution_count": 5,
   "metadata": {},
   "outputs": [
    {
     "data": {
      "text/plain": [
       "4876"
      ]
     },
     "execution_count": 5,
     "metadata": {},
     "output_type": "execute_result"
    }
   ],
   "source": [
    "len(reduced_positive_df)"
   ]
  },
  {
   "cell_type": "code",
   "execution_count": 6,
   "metadata": {},
   "outputs": [],
   "source": [
    "class RNAInterIDConverter:\n",
    "    \"\"\"\n",
    "    RNAInterIDConverter is designed to X\n",
    "    \"\"\"\n",
    "    \n",
    "    def __init__(self, seed):\n",
    "        self.seed = seed\n",
    "        self._taken_names = list()\n",
    "    \n",
    "    def clear_taken_names(self):\n",
    "        self._taken_names = list()\n",
    "    \n",
    "    def get_uniprot_id_from_seq(self, df, protein_seq):\n",
    "        return df[df['proteins'] == protein_seq]['UniprotID'].iloc[0]\n",
    "    \n",
    "    def get_random_rna_id(self, rna_names : pd.Series):\n",
    "        shuffled_names = rna_names.sample(frac = 1, random_state = self.seed)\n",
    "        \n",
    "        for i in range(len(shuffled_names)):\n",
    "            \n",
    "            if shuffled_names.iloc[i] not in self._taken_names:\n",
    "                name = shuffled_names.iloc[i]\n",
    "                self._taken_names.append(name)\n",
    "                return name\n",
    "            \n",
    "            # If it's the final entry, just use that\n",
    "            elif i == len(shuffled_names)-1:\n",
    "                return shuffled_names.iloc[i]\n",
    "        \n",
    "    def get_rna_id_from_seq(self, df, seq):\n",
    "        self.clear_taken_names()\n",
    "        rna_ids = df[df['proteins'] == seq]['RNA_Name']\n",
    "        random_rna_id = self.get_random_rna_id(rna_ids)\n",
    "        return random_rna_id\n",
    "        \n",
    "    def get_rna_and_unirpot_id_from_seq(self, df, seq):\n",
    "        return (self.get_uniprot_id_from_seq(df, seq), self.get_rna_id_from_seq(df, seq))\n",
    "    \n",
    "    def get_unique_protein_uniprot_ids_and_rna_pair_from_df(self, df : pd.DataFrame):\n",
    "        unique_seqs    = df['proteins'].unique()\n",
    "        unique_protein_ids = [self.get_rna_and_unirpot_id_from_seq(df, protein_seq) for protein_seq in unique_seqs]\n",
    "        return unique_protein_ids"
   ]
  },
  {
   "cell_type": "code",
   "execution_count": 7,
   "metadata": {},
   "outputs": [],
   "source": [
    "rnainter_idconverter = RNAInterIDConverter(seed = 255)\n",
    "rnainter_protein_rna_pairs = rnainter_idconverter.get_unique_protein_uniprot_ids_and_rna_pair_from_df(reduced_positive_df)\n",
    "uniprot2rnaname = dict(rnainter_protein_rna_pairs)"
   ]
  },
  {
   "cell_type": "code",
   "execution_count": 7,
   "metadata": {},
   "outputs": [],
   "source": [
    "class RNAInterRNACovnerter:\n",
    "    \"\"\"\n",
    "    Generates the dictionary that converts RNA names to\n",
    "    their encoded sequences\n",
    "    \"\"\"\n",
    "    \n",
    "    def encode_sequences(self, rna_seqs, embedder):\n",
    "        return embedder(rna_seqs)\n",
    "    \n",
    "    def generate_rna_name_to_embedded_seq_converter(self, rna_names, embedded_seqs):\n",
    "        return dict(zip(rna_names, embedded_seqs))\n",
    "    \n",
    "    def generate_rna_name_to_encoded_tensor_dict(self, rna_names, rna_seqs, embedder):\n",
    "        embedded_seqs  = self.encode_sequences(rna_seqs, embedder)\n",
    "        converter_dict = self.generate_rna_name_to_embedded_seq_converter(rna_names, embedded_seqs)\n",
    "        return converter_dict\n",
    "    \n",
    "    def find_rna_seq_from_name(self, rna_name, df):\n",
    "        return df[df['RNA_Name'] == rna_name]['rnas'].iloc[0]\n",
    "    \n",
    "    def return_rna_seqs_from_names(self, rna_names, df):\n",
    "        return [self.find_rna_seq_from_name(rna_name, df) for rna_name in rna_names]\n",
    "    \n",
    "    def generate_rna_name_to_encoded_tensor_dict_from_df(self, rna_names, df, embedder):\n",
    "        rna_seqs       = self.return_rna_seqs_from_names(rna_names, df)\n",
    "        # print(list(rna_seqs))\n",
    "        converter_dict = self.generate_rna_name_to_encoded_tensor_dict(rna_names, list(rna_seqs), embedder)\n",
    "        return converter_dict"
   ]
  },
  {
   "cell_type": "code",
   "execution_count": 9,
   "metadata": {},
   "outputs": [],
   "source": [
    "rnainter_rna_to_tensor_converter = RNAInterRNACovnerter()\n",
    "\n",
    "rna_embedder = SkipGramEmbedder(\"../SeqEmbedders/GensimWord2Vec/RNA2Vec_1024_hidden.model\", reduce = True)\n",
    "rna_embedder_2d = SkipGramEmbedder(\"../SeqEmbedders/GensimWord2Vec/RNA2Vec_1024_hidden.model\", reduce = False, outsize = 100)\n",
    "\n",
    "rnaname2tensor = rnainter_rna_to_tensor_converter.generate_rna_name_to_encoded_tensor_dict_from_df(uniprot2rnaname.values(), reduced_positive_df, rna_embedder)\n",
    "rnaname2tensor_2d = rnainter_rna_to_tensor_converter.generate_rna_name_to_encoded_tensor_dict_from_df(uniprot2rnaname.values(), reduced_positive_df, rna_embedder_2d)"
   ]
  },
  {
   "cell_type": "code",
   "execution_count": 10,
   "metadata": {},
   "outputs": [],
   "source": [
    "#########\n",
    "# 2D test?\n",
    "#########\n",
    "# rna_embedder_2d = SkipGramEmbedder(\"../SeqEmbedders/GensimWord2Vec/RNA2Vec_1024_hidden.model\", reduce = False)\n",
    "# rnaname2tensor = rnainter_rna_to_tensor_converter.generate_rna_name_to_encoded_tensor_dict_from_df(uniprot2rnaname.values(), reduced_positive_df, rna_embedder)"
   ]
  },
  {
   "cell_type": "code",
   "execution_count": 8,
   "metadata": {},
   "outputs": [],
   "source": [
    "class SwissIdCovnerter:\n",
    "    \"\"\"\n",
    "    Generates the dictionary that converts Swiss names to\n",
    "    their encoded sequences\n",
    "    \"\"\"\n",
    "    \n",
    "    def encode_sequences(self, rna_seqs, embedder):\n",
    "        return embedder(rna_seqs)\n",
    "    \n",
    "    def generate_rna_name_to_embedded_seq_converter(self, rna_names, embedded_seqs):\n",
    "        return dict(zip(rna_names, embedded_seqs))\n",
    "    \n",
    "    def generate_rna_name_to_encoded_tensor_dict(self, rna_names, rna_seqs, embedder):\n",
    "        embedded_seqs  = self.encode_sequences(rna_seqs, embedder)\n",
    "        converter_dict = self.generate_rna_name_to_embedded_seq_converter(rna_names, embedded_seqs)\n",
    "        return converter_dict\n",
    "    \n",
    "    def find_rna_seq_from_name(self, rna_name, df):\n",
    "        return df[df['RNA_Name'] == rna_name]['rnas'].iloc[0]\n",
    "    \n",
    "    def return_rna_seqs_from_names(self, rna_names, df):\n",
    "        return [self.find_rna_seq_from_name(rna_name, df) for rna_name in rna_names]\n",
    "    \n",
    "    def generate_swiss_name_to_encoded_tensor_dict_from_df(self, rna_names, df, embedder):\n",
    "        rna_seqs       = self.return_rna_seqs_from_names(rna_names, df)\n",
    "        # print(list(rna_seqs))\n",
    "        converter_dict = self.generate_rna_name_to_encoded_tensor_dict(rna_names, list(rna_seqs), embedder)\n",
    "        return converter_dict"
   ]
  },
  {
   "cell_type": "code",
   "execution_count": 12,
   "metadata": {},
   "outputs": [],
   "source": [
    "unique_proteins = reduced_positive_df['proteins'].unique()\n",
    "# unique_proteins"
   ]
  },
  {
   "cell_type": "code",
   "execution_count": 13,
   "metadata": {},
   "outputs": [
    {
     "data": {
      "text/plain": [
       "(1497, 13)"
      ]
     },
     "execution_count": 13,
     "metadata": {},
     "output_type": "execute_result"
    }
   ],
   "source": [
    "x = reduced_positive_df.groupby(\"rnas\").first()\n",
    "x.shape"
   ]
  },
  {
   "cell_type": "code",
   "execution_count": 14,
   "metadata": {},
   "outputs": [
    {
     "name": "stdout",
     "output_type": "stream",
     "text": [
      "292\n",
      "292\n"
     ]
    }
   ],
   "source": [
    "grouped_df = reduced_positive_df.groupby(\"proteins\").first()\n",
    "first_values = grouped_df.reset_index()\n",
    "\n",
    "unique_reduced_rnainter_uniprot_ids = first_values['UniprotID'].unique()\n",
    "unique_proteins = first_values['proteins']\n",
    "\n",
    "print(len(unique_reduced_rnainter_uniprot_ids))\n",
    "print(len(unique_proteins))"
   ]
  },
  {
   "cell_type": "code",
   "execution_count": 15,
   "metadata": {},
   "outputs": [],
   "source": [
    "# unique_proteins.apply(lambda x: \"\".join(x))[]"
   ]
  },
  {
   "cell_type": "code",
   "execution_count": 16,
   "metadata": {
    "scrolled": true
   },
   "outputs": [
    {
     "name": "stderr",
     "output_type": "stream",
     "text": [
      "Some weights of the model checkpoint at Rostlab/prot_bert_bfd were not used when initializing BertModel: ['cls.predictions.transform.LayerNorm.weight', 'cls.predictions.bias', 'cls.predictions.transform.LayerNorm.bias', 'cls.seq_relationship.weight', 'cls.predictions.decoder.bias', 'cls.predictions.decoder.weight', 'cls.predictions.transform.dense.bias', 'cls.predictions.transform.dense.weight', 'cls.seq_relationship.bias']\n",
      "- This IS expected if you are initializing BertModel from the checkpoint of a model trained on another task or with another architecture (e.g. initializing a BertForSequenceClassification model from a BertForPreTraining model).\n",
      "- This IS NOT expected if you are initializing BertModel from the checkpoint of a model that you expect to be exactly identical (initializing a BertForSequenceClassification model from a BertForSequenceClassification model).\n"
     ]
    },
    {
     "ename": "NameError",
     "evalue": "name 'swiss' is not defined",
     "output_type": "error",
     "traceback": [
      "\u001b[0;31m---------------------------------------------------------------------------\u001b[0m",
      "\u001b[0;31mNameError\u001b[0m                                 Traceback (most recent call last)",
      "\u001b[0;32m<ipython-input-16-dee5ec1025dd>\u001b[0m in \u001b[0;36m<module>\u001b[0;34m\u001b[0m\n\u001b[1;32m      3\u001b[0m \u001b[0mtokenizer\u001b[0m \u001b[0;34m=\u001b[0m \u001b[0mAutoTokenizer\u001b[0m\u001b[0;34m.\u001b[0m\u001b[0mfrom_pretrained\u001b[0m\u001b[0;34m(\u001b[0m\u001b[0;34m\"Rostlab/prot_bert_bfd\"\u001b[0m\u001b[0;34m,\u001b[0m \u001b[0mdo_lower_case\u001b[0m \u001b[0;34m=\u001b[0m \u001b[0;32mFalse\u001b[0m\u001b[0;34m)\u001b[0m\u001b[0;34m\u001b[0m\u001b[0;34m\u001b[0m\u001b[0m\n\u001b[1;32m      4\u001b[0m \u001b[0;34m\u001b[0m\u001b[0m\n\u001b[0;32m----> 5\u001b[0;31m \u001b[0mswiss_embedder\u001b[0m \u001b[0;34m=\u001b[0m \u001b[0mIterableProteinEmbedding\u001b[0m\u001b[0;34m(\u001b[0m\u001b[0mswiss\u001b[0m\u001b[0;34m,\u001b[0m \u001b[0mtokenizer\u001b[0m\u001b[0;34m,\u001b[0m \u001b[0mmodel\u001b[0m\u001b[0;34m,\u001b[0m \u001b[0mchunksize\u001b[0m \u001b[0;34m=\u001b[0m \u001b[0;36m3\u001b[0m\u001b[0;34m,\u001b[0m \u001b[0mmax_len\u001b[0m \u001b[0;34m=\u001b[0m \u001b[0;36m110\u001b[0m\u001b[0;34m,\u001b[0m \u001b[0mcuda\u001b[0m \u001b[0;34m=\u001b[0m \u001b[0;32mTrue\u001b[0m\u001b[0;34m)\u001b[0m\u001b[0;34m\u001b[0m\u001b[0;34m\u001b[0m\u001b[0m\n\u001b[0m\u001b[1;32m      6\u001b[0m \u001b[0;34m\u001b[0m\u001b[0m\n\u001b[1;32m      7\u001b[0m \u001b[0;31m# Need sorted set to make a reproducable set initialization for redoing stuff\u001b[0m\u001b[0;34m\u001b[0m\u001b[0;34m\u001b[0m\u001b[0;34m\u001b[0m\u001b[0m\n",
      "\u001b[0;31mNameError\u001b[0m: name 'swiss' is not defined"
     ]
    }
   ],
   "source": [
    "# proteins, tokenizer, model, chunksize, max_len, cuda = True):\n",
    "model     = AutoModel.from_pretrained(\"Rostlab/prot_bert_bfd\")\n",
    "tokenizer = AutoTokenizer.from_pretrained(\"Rostlab/prot_bert_bfd\", do_lower_case = False)\n",
    "\n",
    "swiss_embedder = IterableProteinEmbedding(swiss, tokenizer, model, chunksize = 3, max_len = 110, cuda = True)\n",
    "\n",
    "# Need sorted set to make a reproducable set initialization for redoing stuff\n",
    "from Utils.encoders import ProtBERTEmbedder\n",
    "from Utils.encoders import ProtBERTEmbedder\n",
    "\n",
    "rnainter_prot_embedder = ProtBERTEmbedder(112,True)\n",
    "print(rnainter_prot_embedder.model.training)\n",
    "\n",
    "rnainter_prot_embedder_2d = IterableProteinEmbedding(unique_proteins, tokenizer, model, chunksize = 3, max_len = 110, reduce = False, cuda = True)"
   ]
  },
  {
   "cell_type": "code",
   "execution_count": 17,
   "metadata": {},
   "outputs": [],
   "source": [
    "swiss_ids = [swiss_id[0] for swiss_id in np.load(\"../Data/EncodedData/reduced_ProtBERT_encoded_110_swissprot_v2_names.npy\")]\n",
    "swiss_ids_2d = [swiss_id for swiss_id in np.load(\"../Data/EncodedData/reduced_ProtBERT_2dim_encoded_110_swissprot_names.npy\")]"
   ]
  },
  {
   "cell_type": "code",
   "execution_count": 18,
   "metadata": {},
   "outputs": [],
   "source": [
    "import os\n",
    "\n",
    "# x\n",
    "SWISS_EMBEDDED_PATH = \"../Data/EncodedData/reduced_ProtBERT_encoded_110_swissprot_v2.pt\"\n",
    "SWISS_EMBEDDED_PATH_2D =  \"../Data/EncodedData/reduced_ProtBERT_2dim_encoded_110_swissprot.pt\"\n",
    "\n",
    "if not os.path.exists(SWISS_EMBEDDED_PATH):\n",
    "    with torch.no_grad():\n",
    "        swiss_embedded = torch.cat([i for i in swiss_embedder])\n",
    "    torch.save(swiss_embedded, SWISS_EMBEDDED_PATH)\n",
    "else:\n",
    "    swiss_embedded = torch.load(SWISS_EMBEDDED_PATH)\n",
    "    \n",
    "\n",
    "# swiss_embedded_2d = torch.load(SWISS_EMBEDDED_PATH_2D)"
   ]
  },
  {
   "cell_type": "code",
   "execution_count": 19,
   "metadata": {},
   "outputs": [
    {
     "data": {
      "text/plain": [
       "torch.Size([9164, 1024])"
      ]
     },
     "execution_count": 19,
     "metadata": {},
     "output_type": "execute_result"
    }
   ],
   "source": [
    "swiss_embedded.shape"
   ]
  },
  {
   "cell_type": "code",
   "execution_count": 20,
   "metadata": {},
   "outputs": [
    {
     "data": {
      "text/plain": [
       "9164"
      ]
     },
     "execution_count": 20,
     "metadata": {},
     "output_type": "execute_result"
    }
   ],
   "source": [
    "len(swiss_ids)"
   ]
  },
  {
   "cell_type": "code",
   "execution_count": 21,
   "metadata": {},
   "outputs": [],
   "source": [
    "# Swiss uniptot IDs linked to their corresponding tensors\n",
    "swiss2tensor = dict(zip(swiss_ids, swiss_embedded))\n",
    "# swiss2tensor_2d = dict(zip(swiss_ids_2d, swiss_embedded_2d))"
   ]
  },
  {
   "cell_type": "code",
   "execution_count": 22,
   "metadata": {},
   "outputs": [],
   "source": [
    "# rnainter_embedded = torch.cat([i for i in rnainter_prot_embedder])\n",
    "# rnainter_embedded"
   ]
  },
  {
   "cell_type": "code",
   "execution_count": 23,
   "metadata": {},
   "outputs": [],
   "source": [
    "# len(rnainter_embedded) == len(reduced_positive_df['proteins'].unique())"
   ]
  },
  {
   "cell_type": "code",
   "execution_count": 9,
   "metadata": {},
   "outputs": [],
   "source": [
    "class ComboDifferenceIterator:\n",
    "    \"\"\"\n",
    "    \n",
    "    \"\"\"\n",
    "    def __init__(self, seq_matrix1, seq_matrix2, model, chunksize, limit = None):\n",
    "        self.seq_matrix1 = seq_matrix1\n",
    "        self.seq_matrix2 = seq_matrix2\n",
    "        self.model = model\n",
    "        \n",
    "        assert chunksize > 1, f\"ComboIterator fails when chunksize is less than 2. recieved chunksize: {chunksize}\"\n",
    "        self.chunksize = chunksize\n",
    "        self.limit = limit\n",
    "    \n",
    "    def _format_matrix_for_sae_diff(self, combo):\n",
    "        return torch.stack(combo)\n",
    "    \n",
    "    def format_combos_for_sae_diff(self, combos):\n",
    "        combo1, combo2 = zip(*combos)\n",
    "        combo1 = self._format_matrix_for_sae_diff(combo1)\n",
    "        combo2 = self._format_matrix_for_sae_diff(combo2)\n",
    "        return combo1, combo2\n",
    "    \n",
    "    def __iter__(self):\n",
    "        \n",
    "        combos = generate_all_combos(self.seq_matrix1, self.seq_matrix2, list_limit = self.limit)\n",
    "        \n",
    "        for i in tqdm(range(0,len(combos),self.chunksize)):\n",
    "            combo1, combo2 = self.format_combos_for_sae_diff(combos[i:i+self.chunksize])\n",
    "            \n",
    "            reduced_combo1 = self.model(combo1)\n",
    "            reduced_combo2 = self.model(combo2)\n",
    "            \n",
    "            combo_len = len(reduced_combo1)\n",
    "            \n",
    "            difference_magnitude = magnitude(reduced_combo1 - reduced_combo2).reshape(combo_len, 1)\n",
    "            \n",
    "            yield difference_magnitude"
   ]
  },
  {
   "cell_type": "code",
   "execution_count": 25,
   "metadata": {},
   "outputs": [],
   "source": [
    "SAE_DIR  = '/data/Chapter_3/Notebooks'\n",
    "rna_sae  = torch.load(f\"{SAE_DIR}/rnavec_encoded_aggregated_u_t_swapped_rnas_DenseSAE.pt\")\n",
    "prot_sae = torch.load(f\"{SAE_DIR}/ProtBERT_encoded_110_swissprot_DenseSAE.pt\")"
   ]
  },
  {
   "cell_type": "code",
   "execution_count": 26,
   "metadata": {},
   "outputs": [
    {
     "ename": "NameError",
     "evalue": "name 'rnainter_embedded' is not defined",
     "output_type": "error",
     "traceback": [
      "\u001b[0;31m---------------------------------------------------------------------------\u001b[0m",
      "\u001b[0;31mNameError\u001b[0m                                 Traceback (most recent call last)",
      "\u001b[0;32m<ipython-input-26-9c0fd400dcad>\u001b[0m in \u001b[0;36m<module>\u001b[0;34m\u001b[0m\n\u001b[0;32m----> 1\u001b[0;31m \u001b[0mprotein_combo_iterator\u001b[0m \u001b[0;34m=\u001b[0m \u001b[0mComboDifferenceIterator\u001b[0m\u001b[0;34m(\u001b[0m\u001b[0mrnainter_embedded\u001b[0m\u001b[0;34m,\u001b[0m \u001b[0mswiss_embedded\u001b[0m\u001b[0;34m.\u001b[0m\u001b[0mcuda\u001b[0m\u001b[0;34m(\u001b[0m\u001b[0;34m)\u001b[0m\u001b[0;34m,\u001b[0m \u001b[0mprot_sae\u001b[0m\u001b[0;34m.\u001b[0m\u001b[0mcuda\u001b[0m\u001b[0;34m(\u001b[0m\u001b[0;34m)\u001b[0m\u001b[0;34m,\u001b[0m \u001b[0;36m2\u001b[0m\u001b[0;34m)\u001b[0m\u001b[0;34m\u001b[0m\u001b[0;34m\u001b[0m\u001b[0m\n\u001b[0m",
      "\u001b[0;31mNameError\u001b[0m: name 'rnainter_embedded' is not defined"
     ]
    }
   ],
   "source": [
    "protein_combo_iterator = ComboDifferenceIterator(rnainter_embedded, swiss_embedded.cuda(), prot_sae.cuda(), 2)"
   ]
  },
  {
   "cell_type": "code",
   "execution_count": 27,
   "metadata": {},
   "outputs": [],
   "source": [
    "DIFFERENCE_MATRIX = \"../Data/EncodedData/Difference_Magnitude_ProtBERT_encoded_110_swissprot_v2_and_Unique_RNAInter_Proteins.pt\"\n",
    "\n",
    "if not os.path.exists(DIFFERENCE_MATRIX):\n",
    "    protein_combo_magnitudes = torch.cat([i for i in protein_combo_iterator])\n",
    "    torch.save(protein_combo_magnitudes, DIFFERENCE_MATRIX)\n",
    "else:\n",
    "    protein_combo_magnitudes = torch.load(DIFFERENCE_MATRIX)\n",
    "\n",
    "# protein_combo_magnitudes = torch.cat([i for i in protein_combo_iterator])"
   ]
  },
  {
   "cell_type": "code",
   "execution_count": 28,
   "metadata": {},
   "outputs": [
    {
     "data": {
      "text/plain": [
       "torch.Size([2675888, 1])"
      ]
     },
     "execution_count": 28,
     "metadata": {},
     "output_type": "execute_result"
    }
   ],
   "source": [
    "protein_combo_magnitudes.shape"
   ]
  },
  {
   "cell_type": "code",
   "execution_count": 29,
   "metadata": {},
   "outputs": [
    {
     "data": {
      "text/plain": [
       "2675888"
      ]
     },
     "execution_count": 29,
     "metadata": {},
     "output_type": "execute_result"
    }
   ],
   "source": [
    "combo_ids = generate_all_combos(unique_reduced_rnainter_uniprot_ids, swiss_ids)\n",
    "len(combo_ids)"
   ]
  },
  {
   "cell_type": "code",
   "execution_count": 30,
   "metadata": {},
   "outputs": [],
   "source": [
    "bin_assigner = KBinsDiscretizer(n_bins=10, encode='ordinal')\n",
    "bins         = bin_assigner.fit_transform(protein_combo_magnitudes.cpu()).squeeze().astype(int)"
   ]
  },
  {
   "cell_type": "code",
   "execution_count": 31,
   "metadata": {},
   "outputs": [],
   "source": [
    "def plot_bin_and_diff_magnitudes(bins, protein_combo_magnitudes, ax):\n",
    "    sbn.boxplot(x = bins, y = np.array( protein_combo_magnitudes.cpu().squeeze()), showfliers = False, \n",
    "                linewidth = 1.3, ax = ax)\n",
    "    ax.set_ylabel(\"Difference magnitude\")\n",
    "    ax.set_xlabel(\"Bins\")\n",
    "\n",
    "def plot_combo_magnitude_dist(protein_combo_magnitudes, ax):\n",
    "    sbn.histplot(protein_combo_magnitudes.cpu(), legend = False, ax = ax)\n",
    "    ax.set_xlabel(\"Difference magnitude\")"
   ]
  },
  {
   "cell_type": "code",
   "execution_count": 32,
   "metadata": {},
   "outputs": [
    {
     "data": {
      "image/png": "[encoded data removed]",
      "text/plain": [
       "<Figure size 432x216 with 2 Axes>"
      ]
     },
     "metadata": {
      "needs_background": "light"
     },
     "output_type": "display_data"
    }
   ],
   "source": [
    "fig,axes = plt.subplots(1,2, figsize = (6,3))\n",
    "\n",
    "# sbn.boxplot(x = bins, y = np.array( protein_combo_magnitudes.cpu().squeeze()), ax = axes[0])\n",
    "# sbn.histplot(protein_combo_magnitudes.cpu(), legend = False, ax = axes[1])\n",
    "\n",
    "# axes[0].set_ylabel(\"Difference magnitude\")\n",
    "# axes[0].set_xlabel(\"Bins\")\n",
    "# axes[1].set_xlabel(\"Difference magnitude\")\n",
    "\n",
    "plot_bin_and_diff_magnitudes(bins, protein_combo_magnitudes, axes[0])\n",
    "plot_combo_magnitude_dist(protein_combo_magnitudes, axes[1])\n",
    "\n",
    "plt.tight_layout()\n",
    "sbn.despine()\n",
    "\n",
    "plt.savefig(\"bin_and_diff_magnitude.png\",dpi = 300)"
   ]
  },
  {
   "cell_type": "markdown",
   "metadata": {},
   "source": [
    "# Sample protein pairs using difference magnitudes"
   ]
  },
  {
   "cell_type": "code",
   "execution_count": 10,
   "metadata": {},
   "outputs": [],
   "source": [
    "class NegativeSampleIdxGenerator():\n",
    "    \"\"\"\n",
    "    NegativeSampleIdxGenerator is used to assign negative sample \n",
    "    indeces using assigned bins and bin weights. This is meant \n",
    "    to be used for protein difference vector magnitudes, but can \n",
    "    be applied for any dataset that is assigned into bins and\n",
    "    have bin weights.Can be used on its own, but is primarily \n",
    "    intended to be used within the <TBD> class. \n",
    "    \n",
    "    It has two main functions:\n",
    "    \n",
    "    ####################################################\n",
    "    generate_negative_sample_idxs_from_sample_weights\n",
    "    ####################################################\n",
    "    This will generate a list of negative indecies from a list\n",
    "    of weights from each sample and a number of desired samples\n",
    "    \n",
    "    ###########################################\n",
    "    generate_negative_sample_idxs_from_bins\n",
    "    ###########################################\n",
    "    This will generate a list of negative indecies using a list of\n",
    "    bins that each sample is in, each bin's specific weight, and a\n",
    "    number of desired samples. This converts each sample's bin\n",
    "    assignment into a sample weight where the \n",
    "    generate_negative_sample_idxs_from_sample_weights method is\n",
    "    then run\n",
    "    \"\"\"\n",
    "    \n",
    "    def __init__(self, seed):\n",
    "        self.seed = seed\n",
    "    \n",
    "    def _generate_weight_assigner(self, bin_weights):\n",
    "        return dict(zip(range(len(bin_weights)), bin_weights))\n",
    "    \n",
    "    def _convert_bins_to_weights(self, bins, bin_weights):\n",
    "        weight_assigner = self._generate_weight_assigner(bin_weights)\n",
    "        sample_weights = pd.Series(bins).apply(lambda x: weight_assigner[x])\n",
    "        return sample_weights\n",
    "    \n",
    "    def generate_negative_sample_idxs_from_sample_weights(self, sample_weights, sample_count):\n",
    "        torch.manual_seed(self.seed)\n",
    "        negative_pair_idx = list(WeightedRandomSampler(sample_weights, sample_count, replacement=False))\n",
    "        return negative_pair_idx\n",
    "    \n",
    "    def generate_negative_sample_idxs_from_bins(self, bins, bin_weights, sample_count):\n",
    "        sample_weights = self._convert_bins_to_weights(bins, bin_weights)\n",
    "        negative_pair_idx = self.generate_negative_sample_idxs_from_sample_weights(sample_weights, sample_count)\n",
    "        return negative_pair_idx"
   ]
  },
  {
   "cell_type": "code",
   "execution_count": 11,
   "metadata": {},
   "outputs": [
    {
     "data": {
      "text/plain": [
       "dict_keys(['lowest', 'highest', 'uniform', 'expoential_low', 'expoential_high', 'normal', 'slight_right_skew', 'slight_left_skew', 'major_right_skew', 'major_left_skew'])"
      ]
     },
     "execution_count": 11,
     "metadata": {},
     "output_type": "execute_result"
    }
   ],
   "source": [
    "SAMPLING_DISTRIBUTIONS.keys()"
   ]
  },
  {
   "cell_type": "code",
   "execution_count": 12,
   "metadata": {},
   "outputs": [
    {
     "data": {
      "text/plain": [
       "[0, 0, 0, 0, 0, 0, 0, 0, 0, 1]"
      ]
     },
     "execution_count": 12,
     "metadata": {},
     "output_type": "execute_result"
    }
   ],
   "source": [
    "SAMPLING_DISTRIBUTIONS['highest']"
   ]
  },
  {
   "cell_type": "code",
   "execution_count": 13,
   "metadata": {
    "scrolled": true
   },
   "outputs": [],
   "source": [
    "def get_rna_partner_from_rnainter_uniprot_id(uniprot_id : str) -> torch.tensor:\n",
    "    rna_partner_name = uniprot2rnaname[uniprot_id]\n",
    "    # encoded_rna_partner = rnaname2tensor[rna_partner_name] # 1Dim\n",
    "    encoded_rna_partner = rnaname2tensor_2d[rna_partner_name] # 2Dim\n",
    "    return encoded_rna_partner"
   ]
  },
  {
   "cell_type": "code",
   "execution_count": 14,
   "metadata": {},
   "outputs": [],
   "source": [
    "def get_new_encoded_swiss_partner_from_rnainter_uniprot_id(rnainter_swiss_id_pair: tuple) -> torch.tensor:\n",
    "    _, swiss_id = rnainter_swiss_id_pair\n",
    "    # encoded_swiss_seq = swiss2tensor[swiss_id] # 1Dim\n",
    "    encoded_swiss_seq = swiss2tensor_2d[swiss_id] #2Dim\n",
    "    return encoded_swiss_seq"
   ]
  },
  {
   "cell_type": "code",
   "execution_count": 15,
   "metadata": {},
   "outputs": [],
   "source": [
    "def return_positive_samples(df, rna_embedder, reduce = True):\n",
    "    model     = AutoModel.from_pretrained(\"Rostlab/prot_bert_bfd\")\n",
    "    tokenizer = AutoTokenizer.from_pretrained(\"Rostlab/prot_bert_bfd\", do_lower_case = False)\n",
    "\n",
    "    rnainter_prot_embedder = IterableProteinEmbedding(df['proteins'], tokenizer, model, chunksize = 3, max_len = 110, reduce = reduce, cuda = True)\n",
    "    encoded_rnainter_prots = torch.cat([encoded_prot for encoded_prot in rnainter_prot_embedder])\n",
    "\n",
    "    encoded_rnainter_rnas = rna_embedder(df['rnas'])\n",
    "    interaction = torch.ones(len(df))\n",
    "\n",
    "    return encoded_rnainter_prots, encoded_rnainter_rnas, interaction"
   ]
  },
  {
   "cell_type": "code",
   "execution_count": 16,
   "metadata": {},
   "outputs": [],
   "source": [
    "from Bio import SeqIO\n",
    "\n",
    "def generate_swiss2seq(negative_pairs, swiss_path):\n",
    "    _, neg_swiss_ids = zip(*negative_pairs)\n",
    "    neg_swiss_ids = set(swiss_ids)\n",
    "    \n",
    "    with open(swiss_path) as handle:\n",
    "        swiss2seq = {record.description.split(\"|\")[1] : \" \".join(list(record.seq)) for record in SeqIO.parse(handle, 'fasta') if record.description.split(\"|\")[1] in neg_swiss_ids}\n",
    "        \n",
    "    return swiss2seq"
   ]
  },
  {
   "cell_type": "code",
   "execution_count": 17,
   "metadata": {},
   "outputs": [],
   "source": [
    "def return_negative_samples(negative_pairs, reduce):\n",
    "    encoded_rnas = list()\n",
    "    encoded_swiss_prots = list()\n",
    "    non_interaction = torch.zeros(len(negative_pairs))\n",
    "    \n",
    "    for negative_pair in negative_pairs:\n",
    "\n",
    "        encoded_rna = get_rna_partner_from_rnainter_uniprot_id(negative_pair[0])\n",
    "        encoded_rnas.append(encoded_rna)\n",
    "\n",
    "    model     = AutoModel.from_pretrained(\"Rostlab/prot_bert_bfd\")\n",
    "    tokenizer = AutoTokenizer.from_pretrained(\"Rostlab/prot_bert_bfd\", do_lower_case = False)\n",
    "    \n",
    "    _, swiss_ids = zip(*negative_pairs)\n",
    "    SWISS_PATH = \"../Data/RawData/uniprot_sprot.fasta\"\n",
    "    swiss2seq = generate_swiss2seq(negative_pairs, SWISS_PATH)\n",
    "    \n",
    "    seqs = [swiss2seq[swiss_id] for swiss_id in swiss_ids]\n",
    "    neg_swiss_embedder = IterableProteinEmbedding(seqs, tokenizer, model, chunksize = 3, max_len = 110, reduce = reduce, cuda = True)\n",
    "    \n",
    "    with torch.no_grad():\n",
    "        encoded_swiss_prots = torch.cat(list(neg_swiss_embedder))\n",
    "\n",
    "    encoded_rnas = torch.stack(encoded_rnas)\n",
    "    # encoded_swiss_prots = torch.stack(encoded_swiss_prots)\n",
    "    \n",
    "    return encoded_swiss_prots, encoded_rnas, non_interaction"
   ]
  },
  {
   "cell_type": "code",
   "execution_count": 18,
   "metadata": {},
   "outputs": [],
   "source": [
    "def return_positive_samples(df, rna_embedder, reduce = True):\n",
    "    model     = AutoModel.from_pretrained(\"Rostlab/prot_bert_bfd\")\n",
    "    tokenizer = AutoTokenizer.from_pretrained(\"Rostlab/prot_bert_bfd\", do_lower_case = False)\n",
    "\n",
    "    rnainter_prot_embedder = IterableProteinEmbedding(df['proteins'], tokenizer, model, chunksize = 3, max_len = 110, reduce = reduce, cuda = True)\n",
    "    encoded_rnainter_prots = torch.cat([encoded_prot for encoded_prot in rnainter_prot_embedder])\n",
    "\n",
    "    encoded_rnainter_rnas = rna_embedder(df['rnas'])\n",
    "    interaction = torch.ones(len(df))\n",
    "\n",
    "    return encoded_rnainter_prots, encoded_rnainter_rnas, interaction"
   ]
  },
  {
   "cell_type": "code",
   "execution_count": 19,
   "metadata": {},
   "outputs": [],
   "source": [
    "class RPI1807_processor:\n",
    "    \"\"\"\n",
    "    RPI1807 is currently as a csv, it must be processed into\n",
    "    encoded data before being validated.\n",
    "    \"\"\"\n",
    "    \n",
    "    def __init__(self, rpi1807_csv_path, mode):\n",
    "        assert mode in ['negative_samples','dl_prediction'], \\\n",
    "        'mode must either be in \"negative_samples\" or \"dl_prediction\" for LazyClassifier and DL model evaluation respectively'\n",
    "        \n",
    "        self.rpi1807_path = rpi1807_csv_path\n",
    "        self.mode = mode\n",
    "        \n",
    "        self.rna_embedder = SkipGramEmbedder(\"../SeqEmbedders/GensimWord2Vec/RNA2Vec_1024_hidden.model\", reduce = True)\n",
    "        self.data = pd.read_csv(rpi1807_csv_path)\n",
    "        \n",
    "        def truncate_rpi1807_sequences():\n",
    "            short_rnas = self.data['rnas'].apply(len) <= 100\n",
    "            short_proteins = self.data['proteins'].apply(len) <= 110\n",
    "            self.data = self.data[short_rnas & short_proteins]\n",
    "        \n",
    "        truncate_rpi1807_sequences()\n",
    "        \n",
    "    def encode_rnas(self, rna_seqs) -> torch.Tensor:\n",
    "        return self.rna_embedder(rna_seqs)\n",
    "        \n",
    "    def _preprocess_protein(self, protein_seq):\n",
    "        return \" \".join(list(protein_seq))\n",
    "    \n",
    "    def _preprocess_proteins(self, protein_seqs):\n",
    "        return [self._preprocess_protein(seq) for seq in protein_seqs]\n",
    "    \n",
    "    def encode_proteins(self, prot_seqs) -> torch.Tensor:\n",
    "        processed_proteins = self._preprocess_proteins(prot_seqs)\n",
    "        # print(processed_proteins)\n",
    "        model     = AutoModel.from_pretrained(\"Rostlab/prot_bert_bfd\")\n",
    "        tokenizer = AutoTokenizer.from_pretrained(\"Rostlab/prot_bert_bfd\", do_lower_case = False)\n",
    "\n",
    "        rpi1807_embedder = IterableProteinEmbedding(processed_proteins, tokenizer, model, chunksize = 3, max_len = 110, cuda = True)\n",
    "        encoded_proteins = torch.cat([i for i in rpi1807_embedder])\n",
    "        \n",
    "        return encoded_proteins\n",
    "        \n",
    "    def process_rpi1807(self) -> tuple:\n",
    "        encoded_proteins = self.encode_proteins(self.data['proteins']).cpu()\n",
    "        encoded_rnas = self.encode_rnas(self.data['rnas']).cpu()\n",
    "        interaction = torch.tensor(self.data['interacts'].values)\n",
    "        \n",
    "        processed_data = (encoded_proteins, encoded_rnas, interaction)\n",
    "        \n",
    "        if self.mode == 'negative_samples':\n",
    "            processed_data = get_lazy_X_and_y_data(processed_data)\n",
    "            \n",
    "        return processed_data"
   ]
  },
  {
   "cell_type": "code",
   "execution_count": 20,
   "metadata": {},
   "outputs": [],
   "source": [
    "def get_lazy_X_and_y_data(data):\n",
    "    X_data = np.concatenate([np.array(i) for i in data[:2]], axis = 1)\n",
    "    y_data = np.array(data[-1])\n",
    "    \n",
    "    return X_data, y_data"
   ]
  },
  {
   "cell_type": "code",
   "execution_count": 21,
   "metadata": {},
   "outputs": [],
   "source": [
    "def isolate_split_data(data, idx):\n",
    "    return [encoded[idx] for encoded in data]"
   ]
  },
  {
   "cell_type": "code",
   "execution_count": 22,
   "metadata": {},
   "outputs": [],
   "source": [
    "# fig, ax = plt.subplots(1,1, figsize = (6,3))\n",
    "\n",
    "# sbn.violinplot(data = models.iloc[:,:-1].melt(), x = 'variable', y = 'value', ax = ax, \n",
    "#                color = 'white')\n",
    "# sbn.swarmplot(data = models.iloc[:,:-1].melt(), x = 'variable', y = 'value', \n",
    "#               palette=\"tab10\", ax = ax)\n",
    "\n",
    "# sbn.despine()"
   ]
  },
  {
   "cell_type": "code",
   "execution_count": 23,
   "metadata": {},
   "outputs": [
    {
     "data": {
      "text/plain": [
       "dict_keys(['lowest', 'highest', 'uniform', 'expoential_low', 'expoential_high', 'normal', 'slight_right_skew', 'slight_left_skew', 'major_right_skew', 'major_left_skew'])"
      ]
     },
     "execution_count": 23,
     "metadata": {},
     "output_type": "execute_result"
    }
   ],
   "source": [
    "SAMPLING_DISTRIBUTIONS.keys()"
   ]
  },
  {
   "cell_type": "code",
   "execution_count": 24,
   "metadata": {},
   "outputs": [],
   "source": [
    "distributions = ['uniform', 'expoential_low', 'expoential_high', 'lowest', 'highest', 'normal', \n",
    "                 'slight_right_skew', 'slight_left_skew', 'major_right_skew', 'major_left_skew']"
   ]
  },
  {
   "cell_type": "code",
   "execution_count": 25,
   "metadata": {},
   "outputs": [
    {
     "data": {
      "text/plain": [
       "4876"
      ]
     },
     "execution_count": 25,
     "metadata": {},
     "output_type": "execute_result"
    }
   ],
   "source": [
    "len(reduced_positive_df)"
   ]
  },
  {
   "cell_type": "code",
   "execution_count": 26,
   "metadata": {
    "scrolled": true
   },
   "outputs": [
    {
     "name": "stdout",
     "output_type": "stream",
     "text": [
      "Performing lowest sampling experiments...\n",
      "[1, 0, 0, 0, 0, 0, 0, 0, 0, 0]\n"
     ]
    },
    {
     "ename": "NameError",
     "evalue": "name 'bins' is not defined",
     "output_type": "error",
     "traceback": [
      "\u001b[0;31m---------------------------------------------------------------------------\u001b[0m",
      "\u001b[0;31mNameError\u001b[0m                                 Traceback (most recent call last)",
      "\u001b[0;32m<ipython-input-26-60ab00862535>\u001b[0m in \u001b[0;36m<module>\u001b[0;34m\u001b[0m\n\u001b[1;32m     15\u001b[0m     \u001b[0mprint\u001b[0m\u001b[0;34m(\u001b[0m\u001b[0mbin_weights\u001b[0m\u001b[0;34m)\u001b[0m\u001b[0;34m\u001b[0m\u001b[0;34m\u001b[0m\u001b[0m\n\u001b[1;32m     16\u001b[0m \u001b[0;34m\u001b[0m\u001b[0m\n\u001b[0;32m---> 17\u001b[0;31m     \u001b[0mnegative_pair_idx\u001b[0m \u001b[0;34m=\u001b[0m \u001b[0mneg_idx_generator\u001b[0m\u001b[0;34m.\u001b[0m\u001b[0mgenerate_negative_sample_idxs_from_bins\u001b[0m\u001b[0;34m(\u001b[0m\u001b[0mbins\u001b[0m\u001b[0;34m,\u001b[0m \u001b[0mbin_weights\u001b[0m\u001b[0;34m,\u001b[0m \u001b[0mSAMPLES\u001b[0m\u001b[0;34m)\u001b[0m\u001b[0;34m\u001b[0m\u001b[0;34m\u001b[0m\u001b[0m\n\u001b[0m\u001b[1;32m     18\u001b[0m \u001b[0;34m\u001b[0m\u001b[0m\n\u001b[1;32m     19\u001b[0m     \u001b[0mneg_pair_idxs\u001b[0m\u001b[0;34m.\u001b[0m\u001b[0mappend\u001b[0m\u001b[0;34m(\u001b[0m\u001b[0mnegative_pair_idx\u001b[0m\u001b[0;34m)\u001b[0m\u001b[0;34m\u001b[0m\u001b[0;34m\u001b[0m\u001b[0m\n",
      "\u001b[0;31mNameError\u001b[0m: name 'bins' is not defined"
     ]
    },
    {
     "data": {
      "image/png": "[encoded data removed]",
      "text/plain": [
       "<Figure size 432x273.6 with 10 Axes>"
      ]
     },
     "metadata": {
      "needs_background": "light"
     },
     "output_type": "display_data"
    }
   ],
   "source": [
    "fig, axes = plt.subplots(2,5, figsize = (6,3.8), sharex = True, sharey = True)\n",
    "\n",
    "i = 0\n",
    "\n",
    "SEED = 255\n",
    "SAMPLES = len(reduced_positive_df)\n",
    "\n",
    "neg_idx_generator = NegativeSampleIdxGenerator(SEED)\n",
    "\n",
    "neg_pair_idxs = list()\n",
    "\n",
    "for i,distribution in enumerate(SAMPLING_DISTRIBUTIONS.keys()):\n",
    "    print(f\"Performing {distribution} sampling experiments...\")\n",
    "    bin_weights = SAMPLING_DISTRIBUTIONS[distribution]\n",
    "    print(bin_weights)\n",
    "    \n",
    "    negative_pair_idx = neg_idx_generator.generate_negative_sample_idxs_from_bins(bins, bin_weights, SAMPLES)\n",
    "    \n",
    "    neg_pair_idxs.append(negative_pair_idx)\n",
    "    \n",
    "#     negative_pairs = np.array(combo_ids)[negative_pair_idx]\n",
    "    \n",
    "#     positive_samples = return_positive_samples(reduced_positive_df, rna_embedder)\n",
    "#     negative_samples = return_negative_samples(negative_pairs)\n",
    "    \n",
    "#     data = [torch.cat([pos.cpu(),neg.cpu()]) for pos,neg in zip(*[positive_samples, negative_samples])]\n",
    "    \n",
    "# #     train_idx, test_idx = train_test_split(range(len(data[0])), random_state = 255, test_size = 0.2, \n",
    "# #                                         stratify = data[-1])\n",
    "#      # test_idx, val_idx = train_test_split(test_idx, random_state = 255, test_size = 0.5,\n",
    "# #                                      stratify = data[-1][test_idx])\n",
    "\n",
    "#     rpi1807_processor = RPI1807_processor(\"../Data/EvaluationData/RPI1807.csv\", mode = 'negative_samples')\n",
    "    \n",
    "#     x,y = rpi1807_processor.process_rpi1807()\n",
    "    \n",
    "#     X_train, y_train = get_lazy_X_and_y_data(data)\n",
    "#     # X_test, y_test = get_lazy_X_and_y_data(train_data)\n",
    "#     # X_test, y_test = get_lazy_X_and_y_data(test_data)\n",
    "    \n",
    "#     clf = LazyClassifier(random_state = 255)\n",
    "#     models, _ = clf.fit(X_train, x, y_train, y)\n",
    "    \n",
    "#     models['distribution'] = distribution\n",
    "    \n",
    "    # models.to_csv(f\"../PreTrainingExperimentResults/Lazypred{distribution}SamplingRPI1807Eval.csv\")\n",
    "    \n",
    "    n = i>4\n",
    "    k = i if i <= 4 else i - 5\n",
    "    \n",
    "    # axes[int(n),k].set_xlim(None,9)\n",
    "    \n",
    "#     if i == 1:\n",
    "#         print(bins[negative_pair_idx])\n",
    "#          t = bins[negative_pair_idx]\n",
    "#          t.append(0)\n",
    "    \n",
    "    # Need to add one sample from each entry for visualization to prevent\n",
    "    # a graphical glitch. This was NOT inlucded in negative sampling\n",
    "    # experiments\n",
    "    negative_sample_bins = np.append(bins[negative_pair_idx],np.arange(10))\n",
    "    \n",
    "    sbn.countplot(x = negative_sample_bins, ax = axes[int(n),k], \n",
    "                  palette = 'summer')\n",
    "    \n",
    "    \n",
    "    # axes[int(n),k].set_title(distribution.replace('_','\\n'))\n",
    "    axes[int(n),k].set_ylabel(\"\")\n",
    "\n",
    "axes[0,0].set_xticks(range(0,10,3))\n",
    "    \n",
    "axes[0,0].set_ylabel(\"Sample count\")\n",
    "axes[1,0].set_ylabel(\"Sample count\")\n",
    "\n",
    "# axes[0,0].set_yticks(range(0,10,2))\n",
    "# axes[0,0].set_yticklabels(list(np.linspace(0,1,5)))\n",
    "\n",
    "# labels = axes[0,0].get_yticklabels()\n",
    "# axes[0,0].set_yticklabels([round(i/len(bins[negative_pair_idx]),2) for label in labels])\n",
    "\n",
    "axes[0,0].set_ylim(0,5000)\n",
    "\n",
    "for i in range(5):\n",
    "    axes[1,i].set_xlabel(\"Bin\")\n",
    "\n",
    "plt.tight_layout()\n",
    "sbn.despine()\n",
    "\n",
    "# plt.savefig(\"BinnedSampleCount.png\", dpi = 300)"
   ]
  },
  {
   "cell_type": "code",
   "execution_count": 54,
   "metadata": {},
   "outputs": [
    {
     "name": "stderr",
     "output_type": "stream",
     "text": [
      "Some weights of the model checkpoint at Rostlab/prot_bert_bfd were not used when initializing BertModel: ['cls.predictions.transform.LayerNorm.weight', 'cls.predictions.bias', 'cls.predictions.transform.LayerNorm.bias', 'cls.seq_relationship.weight', 'cls.predictions.decoder.bias', 'cls.predictions.decoder.weight', 'cls.predictions.transform.dense.bias', 'cls.predictions.transform.dense.weight', 'cls.seq_relationship.bias']\n",
      "- This IS expected if you are initializing BertModel from the checkpoint of a model trained on another task or with another architecture (e.g. initializing a BertForSequenceClassification model from a BertForPreTraining model).\n",
      "- This IS NOT expected if you are initializing BertModel from the checkpoint of a model that you expect to be exactly identical (initializing a BertForSequenceClassification model from a BertForSequenceClassification model).\n"
     ]
    },
    {
     "data": {
      "application/vnd.jupyter.widget-view+json": {
       "model_id": "4b6cd989f94d44e1975cbc3df3d5685b",
       "version_major": 2,
       "version_minor": 0
      },
      "text/plain": [
       "  0%|          | 0/1626 [00:00<?, ?it/s]"
      ]
     },
     "metadata": {},
     "output_type": "display_data"
    },
    {
     "name": "stderr",
     "output_type": "stream",
     "text": [
      "Some weights of the model checkpoint at Rostlab/prot_bert_bfd were not used when initializing BertModel: ['cls.predictions.transform.LayerNorm.weight', 'cls.predictions.bias', 'cls.predictions.transform.LayerNorm.bias', 'cls.seq_relationship.weight', 'cls.predictions.decoder.bias', 'cls.predictions.decoder.weight', 'cls.predictions.transform.dense.bias', 'cls.predictions.transform.dense.weight', 'cls.seq_relationship.bias']\n",
      "- This IS expected if you are initializing BertModel from the checkpoint of a model trained on another task or with another architecture (e.g. initializing a BertForSequenceClassification model from a BertForPreTraining model).\n",
      "- This IS NOT expected if you are initializing BertModel from the checkpoint of a model that you expect to be exactly identical (initializing a BertForSequenceClassification model from a BertForSequenceClassification model).\n"
     ]
    },
    {
     "data": {
      "application/vnd.jupyter.widget-view+json": {
       "model_id": "20107a1f41eb40efae65da630c56ff09",
       "version_major": 2,
       "version_minor": 0
      },
      "text/plain": [
       "  0%|          | 0/1626 [00:00<?, ?it/s]"
      ]
     },
     "metadata": {},
     "output_type": "display_data"
    }
   ],
   "source": [
    "bin_weights = SAMPLING_DISTRIBUTIONS['slight_left_skew']\n",
    "negative_pair_idx = neg_idx_generator.generate_negative_sample_idxs_from_bins(bins, bin_weights, SAMPLES)\n",
    "\n",
    "negative_pairs = np.array(combo_ids)[negative_pair_idx]\n",
    "\n",
    "positive_samples = return_positive_samples(reduced_positive_df, rna_embedder_2d, reduce = False)\n",
    "negative_samples = return_negative_samples(negative_pairs, reduce = False)\n",
    "\n",
    "# 2D Data\n",
    "data = [torch.cat([pos.cpu(),neg.cpu()]) for pos,neg in zip(*[positive_samples, negative_samples])]"
   ]
  },
  {
   "cell_type": "code",
   "execution_count": 55,
   "metadata": {},
   "outputs": [],
   "source": [
    "# SAVE DISTRIBUTION DATA AS TUPLE\n",
    "# Protein, RNA, interacts\n",
    "\n",
    "import pickle\n",
    "\n",
    "with open(\"../Data/TrainingData/ReducedEmbeddedTrainingData_2D.pickle\",'wb') as outfile:\n",
    "    pickle.dump(data, outfile)"
   ]
  },
  {
   "cell_type": "code",
   "execution_count": null,
   "metadata": {},
   "outputs": [],
   "source": []
  },
  {
   "cell_type": "markdown",
   "metadata": {},
   "source": [
    "# Evaluate combined experiments"
   ]
  },
  {
   "cell_type": "code",
   "execution_count": 25,
   "metadata": {},
   "outputs": [],
   "source": [
    "combined_experiments = pd.concat([pd.read_csv(f\"../PreTrainingExperimentResults/Lazypred{distribution}SamplingRPI1807Eval.csv\") for distribution in SAMPLING_DISTRIBUTIONS.keys()]).reset_index(drop=True).round(5)"
   ]
  },
  {
   "cell_type": "code",
   "execution_count": 26,
   "metadata": {},
   "outputs": [
    {
     "name": "stdout",
     "output_type": "stream",
     "text": [
      "AUROC and balanced accuracy are identical: True\n"
     ]
    }
   ],
   "source": [
    "# All balanced accuracy and AUROC values are identical\n",
    "print(f\"AUROC and balanced accuracy are identical: {(combined_experiments['Balanced Accuracy'] == combined_experiments['ROC AUC']).all()}\")"
   ]
  },
  {
   "cell_type": "code",
   "execution_count": 42,
   "metadata": {},
   "outputs": [
    {
     "data": {
      "text/html": [
       "<div>\n",
       "<style scoped>\n",
       "    .dataframe tbody tr th:only-of-type {\n",
       "        vertical-align: middle;\n",
       "    }\n",
       "\n",
       "    .dataframe tbody tr th {\n",
       "        vertical-align: top;\n",
       "    }\n",
       "\n",
       "    .dataframe thead th {\n",
       "        text-align: right;\n",
       "    }\n",
       "</style>\n",
       "<table border=\"1\" class=\"dataframe\">\n",
       "  <thead>\n",
       "    <tr style=\"text-align: right;\">\n",
       "      <th></th>\n",
       "      <th>Accuracy</th>\n",
       "      <th>Balanced Accuracy</th>\n",
       "      <th>ROC AUC</th>\n",
       "      <th>F1 Score</th>\n",
       "      <th>Time Taken</th>\n",
       "      <th>distribution</th>\n",
       "    </tr>\n",
       "    <tr>\n",
       "      <th>Model</th>\n",
       "      <th></th>\n",
       "      <th></th>\n",
       "      <th></th>\n",
       "      <th></th>\n",
       "      <th></th>\n",
       "      <th></th>\n",
       "    </tr>\n",
       "  </thead>\n",
       "  <tbody>\n",
       "    <tr>\n",
       "      <th>LinearSVC</th>\n",
       "      <td>0.75</td>\n",
       "      <td>0.76</td>\n",
       "      <td>0.76</td>\n",
       "      <td>0.75</td>\n",
       "      <td>16.35</td>\n",
       "      <td>uniform</td>\n",
       "    </tr>\n",
       "    <tr>\n",
       "      <th>CalibratedClassifierCV</th>\n",
       "      <td>0.74</td>\n",
       "      <td>0.75</td>\n",
       "      <td>0.75</td>\n",
       "      <td>0.74</td>\n",
       "      <td>57.06</td>\n",
       "      <td>uniform</td>\n",
       "    </tr>\n",
       "    <tr>\n",
       "      <th>Perceptron</th>\n",
       "      <td>0.73</td>\n",
       "      <td>0.74</td>\n",
       "      <td>0.74</td>\n",
       "      <td>0.74</td>\n",
       "      <td>1.98</td>\n",
       "      <td>uniform</td>\n",
       "    </tr>\n",
       "    <tr>\n",
       "      <th>PassiveAggressiveClassifier</th>\n",
       "      <td>0.73</td>\n",
       "      <td>0.74</td>\n",
       "      <td>0.74</td>\n",
       "      <td>0.74</td>\n",
       "      <td>3.02</td>\n",
       "      <td>uniform</td>\n",
       "    </tr>\n",
       "    <tr>\n",
       "      <th>LogisticRegression</th>\n",
       "      <td>0.71</td>\n",
       "      <td>0.73</td>\n",
       "      <td>0.73</td>\n",
       "      <td>0.71</td>\n",
       "      <td>2.58</td>\n",
       "      <td>uniform</td>\n",
       "    </tr>\n",
       "  </tbody>\n",
       "</table>\n",
       "</div>"
      ],
      "text/plain": [
       "                             Accuracy  Balanced Accuracy  ROC AUC  F1 Score  \\\n",
       "Model                                                                         \n",
       "LinearSVC                        0.75               0.76     0.76      0.75   \n",
       "CalibratedClassifierCV           0.74               0.75     0.75      0.74   \n",
       "Perceptron                       0.73               0.74     0.74      0.74   \n",
       "PassiveAggressiveClassifier      0.73               0.74     0.74      0.74   \n",
       "LogisticRegression               0.71               0.73     0.73      0.71   \n",
       "\n",
       "                             Time Taken distribution  \n",
       "Model                                                 \n",
       "LinearSVC                         16.35      uniform  \n",
       "CalibratedClassifierCV            57.06      uniform  \n",
       "Perceptron                         1.98      uniform  \n",
       "PassiveAggressiveClassifier        3.02      uniform  \n",
       "LogisticRegression                 2.58      uniform  "
      ]
     },
     "execution_count": 42,
     "metadata": {},
     "output_type": "execute_result"
    }
   ],
   "source": [
    "combined_experiments.groupby(\"Model\").max().sort_values(\"Balanced Accuracy\", ascending = False)[:5]"
   ]
  },
  {
   "cell_type": "code",
   "execution_count": 28,
   "metadata": {},
   "outputs": [
    {
     "name": "stdout",
     "output_type": "stream",
     "text": [
      "\n",
      "TOP 5 PERFORMING MODELS:\n",
      "['LinearSVC', 'CalibratedClassifierCV', 'Perceptron', 'PassiveAggressiveClassifier', 'LogisticRegression']\n",
      "\n"
     ]
    }
   ],
   "source": [
    "top_models = combined_experiments.groupby(\"Model\").max().sort_values(\"Balanced Accuracy\", ascending = False)[:5].index\n",
    "\n",
    "print(f\"\"\"\n",
    "TOP 5 PERFORMING MODELS:\n",
    "{list(top_models)}\n",
    "\"\"\")"
   ]
  },
  {
   "cell_type": "code",
   "execution_count": 43,
   "metadata": {
    "scrolled": true
   },
   "outputs": [
    {
     "data": {
      "text/html": [
       "<div>\n",
       "<style scoped>\n",
       "    .dataframe tbody tr th:only-of-type {\n",
       "        vertical-align: middle;\n",
       "    }\n",
       "\n",
       "    .dataframe tbody tr th {\n",
       "        vertical-align: top;\n",
       "    }\n",
       "\n",
       "    .dataframe thead th {\n",
       "        text-align: right;\n",
       "    }\n",
       "</style>\n",
       "<table border=\"1\" class=\"dataframe\">\n",
       "  <thead>\n",
       "    <tr style=\"text-align: right;\">\n",
       "      <th></th>\n",
       "      <th>Model</th>\n",
       "      <th>Balanced Accuracy</th>\n",
       "      <th>ROC AUC</th>\n",
       "      <th>F1 Score</th>\n",
       "      <th>distribution</th>\n",
       "    </tr>\n",
       "  </thead>\n",
       "  <tbody>\n",
       "    <tr>\n",
       "      <th>2</th>\n",
       "      <td>LogisticRegression</td>\n",
       "      <td>0.66</td>\n",
       "      <td>0.66</td>\n",
       "      <td>0.63</td>\n",
       "      <td>lowest</td>\n",
       "    </tr>\n",
       "    <tr>\n",
       "      <th>11</th>\n",
       "      <td>PassiveAggressiveClassifier</td>\n",
       "      <td>0.57</td>\n",
       "      <td>0.57</td>\n",
       "      <td>0.49</td>\n",
       "      <td>lowest</td>\n",
       "    </tr>\n",
       "    <tr>\n",
       "      <th>22</th>\n",
       "      <td>LinearSVC</td>\n",
       "      <td>0.47</td>\n",
       "      <td>0.47</td>\n",
       "      <td>0.31</td>\n",
       "      <td>lowest</td>\n",
       "    </tr>\n",
       "    <tr>\n",
       "      <th>23</th>\n",
       "      <td>CalibratedClassifierCV</td>\n",
       "      <td>0.47</td>\n",
       "      <td>0.47</td>\n",
       "      <td>0.31</td>\n",
       "      <td>lowest</td>\n",
       "    </tr>\n",
       "    <tr>\n",
       "      <th>26</th>\n",
       "      <td>Perceptron</td>\n",
       "      <td>0.46</td>\n",
       "      <td>0.46</td>\n",
       "      <td>0.30</td>\n",
       "      <td>lowest</td>\n",
       "    </tr>\n",
       "    <tr>\n",
       "      <th>30</th>\n",
       "      <td>Perceptron</td>\n",
       "      <td>0.68</td>\n",
       "      <td>0.68</td>\n",
       "      <td>0.65</td>\n",
       "      <td>highest</td>\n",
       "    </tr>\n",
       "    <tr>\n",
       "      <th>32</th>\n",
       "      <td>PassiveAggressiveClassifier</td>\n",
       "      <td>0.66</td>\n",
       "      <td>0.66</td>\n",
       "      <td>0.64</td>\n",
       "      <td>highest</td>\n",
       "    </tr>\n",
       "    <tr>\n",
       "      <th>33</th>\n",
       "      <td>LogisticRegression</td>\n",
       "      <td>0.66</td>\n",
       "      <td>0.66</td>\n",
       "      <td>0.64</td>\n",
       "      <td>highest</td>\n",
       "    </tr>\n",
       "    <tr>\n",
       "      <th>35</th>\n",
       "      <td>LinearSVC</td>\n",
       "      <td>0.61</td>\n",
       "      <td>0.61</td>\n",
       "      <td>0.61</td>\n",
       "      <td>highest</td>\n",
       "    </tr>\n",
       "    <tr>\n",
       "      <th>37</th>\n",
       "      <td>CalibratedClassifierCV</td>\n",
       "      <td>0.60</td>\n",
       "      <td>0.60</td>\n",
       "      <td>0.60</td>\n",
       "      <td>highest</td>\n",
       "    </tr>\n",
       "    <tr>\n",
       "      <th>54</th>\n",
       "      <td>Perceptron</td>\n",
       "      <td>0.74</td>\n",
       "      <td>0.74</td>\n",
       "      <td>0.74</td>\n",
       "      <td>uniform</td>\n",
       "    </tr>\n",
       "    <tr>\n",
       "      <th>55</th>\n",
       "      <td>CalibratedClassifierCV</td>\n",
       "      <td>0.73</td>\n",
       "      <td>0.73</td>\n",
       "      <td>0.72</td>\n",
       "      <td>uniform</td>\n",
       "    </tr>\n",
       "    <tr>\n",
       "      <th>56</th>\n",
       "      <td>PassiveAggressiveClassifier</td>\n",
       "      <td>0.73</td>\n",
       "      <td>0.73</td>\n",
       "      <td>0.71</td>\n",
       "      <td>uniform</td>\n",
       "    </tr>\n",
       "    <tr>\n",
       "      <th>60</th>\n",
       "      <td>LogisticRegression</td>\n",
       "      <td>0.68</td>\n",
       "      <td>0.68</td>\n",
       "      <td>0.64</td>\n",
       "      <td>uniform</td>\n",
       "    </tr>\n",
       "    <tr>\n",
       "      <th>69</th>\n",
       "      <td>LinearSVC</td>\n",
       "      <td>0.57</td>\n",
       "      <td>0.57</td>\n",
       "      <td>0.47</td>\n",
       "      <td>uniform</td>\n",
       "    </tr>\n",
       "    <tr>\n",
       "      <th>81</th>\n",
       "      <td>Perceptron</td>\n",
       "      <td>0.73</td>\n",
       "      <td>0.73</td>\n",
       "      <td>0.72</td>\n",
       "      <td>expoential_low</td>\n",
       "    </tr>\n",
       "    <tr>\n",
       "      <th>82</th>\n",
       "      <td>LogisticRegression</td>\n",
       "      <td>0.73</td>\n",
       "      <td>0.73</td>\n",
       "      <td>0.71</td>\n",
       "      <td>expoential_low</td>\n",
       "    </tr>\n",
       "    <tr>\n",
       "      <th>91</th>\n",
       "      <td>PassiveAggressiveClassifier</td>\n",
       "      <td>0.61</td>\n",
       "      <td>0.61</td>\n",
       "      <td>0.56</td>\n",
       "      <td>expoential_low</td>\n",
       "    </tr>\n",
       "    <tr>\n",
       "      <th>95</th>\n",
       "      <td>LinearSVC</td>\n",
       "      <td>0.54</td>\n",
       "      <td>0.54</td>\n",
       "      <td>0.44</td>\n",
       "      <td>expoential_low</td>\n",
       "    </tr>\n",
       "    <tr>\n",
       "      <th>96</th>\n",
       "      <td>CalibratedClassifierCV</td>\n",
       "      <td>0.54</td>\n",
       "      <td>0.54</td>\n",
       "      <td>0.44</td>\n",
       "      <td>expoential_low</td>\n",
       "    </tr>\n",
       "    <tr>\n",
       "      <th>108</th>\n",
       "      <td>PassiveAggressiveClassifier</td>\n",
       "      <td>0.70</td>\n",
       "      <td>0.70</td>\n",
       "      <td>0.69</td>\n",
       "      <td>expoential_high</td>\n",
       "    </tr>\n",
       "    <tr>\n",
       "      <th>109</th>\n",
       "      <td>LinearSVC</td>\n",
       "      <td>0.68</td>\n",
       "      <td>0.68</td>\n",
       "      <td>0.65</td>\n",
       "      <td>expoential_high</td>\n",
       "    </tr>\n",
       "    <tr>\n",
       "      <th>112</th>\n",
       "      <td>LogisticRegression</td>\n",
       "      <td>0.67</td>\n",
       "      <td>0.67</td>\n",
       "      <td>0.64</td>\n",
       "      <td>expoential_high</td>\n",
       "    </tr>\n",
       "    <tr>\n",
       "      <th>117</th>\n",
       "      <td>Perceptron</td>\n",
       "      <td>0.66</td>\n",
       "      <td>0.66</td>\n",
       "      <td>0.64</td>\n",
       "      <td>expoential_high</td>\n",
       "    </tr>\n",
       "    <tr>\n",
       "      <th>118</th>\n",
       "      <td>CalibratedClassifierCV</td>\n",
       "      <td>0.65</td>\n",
       "      <td>0.65</td>\n",
       "      <td>0.63</td>\n",
       "      <td>expoential_high</td>\n",
       "    </tr>\n",
       "    <tr>\n",
       "      <th>135</th>\n",
       "      <td>PassiveAggressiveClassifier</td>\n",
       "      <td>0.74</td>\n",
       "      <td>0.74</td>\n",
       "      <td>0.74</td>\n",
       "      <td>normal</td>\n",
       "    </tr>\n",
       "    <tr>\n",
       "      <th>136</th>\n",
       "      <td>CalibratedClassifierCV</td>\n",
       "      <td>0.74</td>\n",
       "      <td>0.74</td>\n",
       "      <td>0.73</td>\n",
       "      <td>normal</td>\n",
       "    </tr>\n",
       "    <tr>\n",
       "      <th>139</th>\n",
       "      <td>LinearSVC</td>\n",
       "      <td>0.68</td>\n",
       "      <td>0.68</td>\n",
       "      <td>0.65</td>\n",
       "      <td>normal</td>\n",
       "    </tr>\n",
       "    <tr>\n",
       "      <th>140</th>\n",
       "      <td>LogisticRegression</td>\n",
       "      <td>0.68</td>\n",
       "      <td>0.68</td>\n",
       "      <td>0.65</td>\n",
       "      <td>normal</td>\n",
       "    </tr>\n",
       "    <tr>\n",
       "      <th>143</th>\n",
       "      <td>Perceptron</td>\n",
       "      <td>0.67</td>\n",
       "      <td>0.67</td>\n",
       "      <td>0.64</td>\n",
       "      <td>normal</td>\n",
       "    </tr>\n",
       "    <tr>\n",
       "      <th>166</th>\n",
       "      <td>Perceptron</td>\n",
       "      <td>0.67</td>\n",
       "      <td>0.67</td>\n",
       "      <td>0.63</td>\n",
       "      <td>slight_right_skew</td>\n",
       "    </tr>\n",
       "    <tr>\n",
       "      <th>167</th>\n",
       "      <td>CalibratedClassifierCV</td>\n",
       "      <td>0.66</td>\n",
       "      <td>0.66</td>\n",
       "      <td>0.62</td>\n",
       "      <td>slight_right_skew</td>\n",
       "    </tr>\n",
       "    <tr>\n",
       "      <th>173</th>\n",
       "      <td>LinearSVC</td>\n",
       "      <td>0.55</td>\n",
       "      <td>0.55</td>\n",
       "      <td>0.45</td>\n",
       "      <td>slight_right_skew</td>\n",
       "    </tr>\n",
       "    <tr>\n",
       "      <th>176</th>\n",
       "      <td>PassiveAggressiveClassifier</td>\n",
       "      <td>0.53</td>\n",
       "      <td>0.53</td>\n",
       "      <td>0.43</td>\n",
       "      <td>slight_right_skew</td>\n",
       "    </tr>\n",
       "    <tr>\n",
       "      <th>187</th>\n",
       "      <td>LogisticRegression</td>\n",
       "      <td>0.47</td>\n",
       "      <td>0.47</td>\n",
       "      <td>0.31</td>\n",
       "      <td>slight_right_skew</td>\n",
       "    </tr>\n",
       "    <tr>\n",
       "      <th>189</th>\n",
       "      <td>LinearSVC</td>\n",
       "      <td>0.76</td>\n",
       "      <td>0.76</td>\n",
       "      <td>0.75</td>\n",
       "      <td>slight_left_skew</td>\n",
       "    </tr>\n",
       "    <tr>\n",
       "      <th>190</th>\n",
       "      <td>CalibratedClassifierCV</td>\n",
       "      <td>0.75</td>\n",
       "      <td>0.75</td>\n",
       "      <td>0.74</td>\n",
       "      <td>slight_left_skew</td>\n",
       "    </tr>\n",
       "    <tr>\n",
       "      <th>191</th>\n",
       "      <td>PassiveAggressiveClassifier</td>\n",
       "      <td>0.74</td>\n",
       "      <td>0.74</td>\n",
       "      <td>0.73</td>\n",
       "      <td>slight_left_skew</td>\n",
       "    </tr>\n",
       "    <tr>\n",
       "      <th>197</th>\n",
       "      <td>Perceptron</td>\n",
       "      <td>0.67</td>\n",
       "      <td>0.67</td>\n",
       "      <td>0.64</td>\n",
       "      <td>slight_left_skew</td>\n",
       "    </tr>\n",
       "    <tr>\n",
       "      <th>198</th>\n",
       "      <td>LogisticRegression</td>\n",
       "      <td>0.67</td>\n",
       "      <td>0.67</td>\n",
       "      <td>0.63</td>\n",
       "      <td>slight_left_skew</td>\n",
       "    </tr>\n",
       "    <tr>\n",
       "      <th>224</th>\n",
       "      <td>Perceptron</td>\n",
       "      <td>0.55</td>\n",
       "      <td>0.55</td>\n",
       "      <td>0.46</td>\n",
       "      <td>major_right_skew</td>\n",
       "    </tr>\n",
       "    <tr>\n",
       "      <th>228</th>\n",
       "      <td>LinearSVC</td>\n",
       "      <td>0.54</td>\n",
       "      <td>0.54</td>\n",
       "      <td>0.44</td>\n",
       "      <td>major_right_skew</td>\n",
       "    </tr>\n",
       "    <tr>\n",
       "      <th>229</th>\n",
       "      <td>CalibratedClassifierCV</td>\n",
       "      <td>0.54</td>\n",
       "      <td>0.54</td>\n",
       "      <td>0.44</td>\n",
       "      <td>major_right_skew</td>\n",
       "    </tr>\n",
       "    <tr>\n",
       "      <th>239</th>\n",
       "      <td>LogisticRegression</td>\n",
       "      <td>0.46</td>\n",
       "      <td>0.46</td>\n",
       "      <td>0.30</td>\n",
       "      <td>major_right_skew</td>\n",
       "    </tr>\n",
       "    <tr>\n",
       "      <th>240</th>\n",
       "      <td>PassiveAggressiveClassifier</td>\n",
       "      <td>0.46</td>\n",
       "      <td>0.46</td>\n",
       "      <td>0.30</td>\n",
       "      <td>major_right_skew</td>\n",
       "    </tr>\n",
       "    <tr>\n",
       "      <th>247</th>\n",
       "      <td>Perceptron</td>\n",
       "      <td>0.67</td>\n",
       "      <td>0.67</td>\n",
       "      <td>0.64</td>\n",
       "      <td>major_left_skew</td>\n",
       "    </tr>\n",
       "    <tr>\n",
       "      <th>248</th>\n",
       "      <td>PassiveAggressiveClassifier</td>\n",
       "      <td>0.67</td>\n",
       "      <td>0.67</td>\n",
       "      <td>0.64</td>\n",
       "      <td>major_left_skew</td>\n",
       "    </tr>\n",
       "    <tr>\n",
       "      <th>249</th>\n",
       "      <td>LogisticRegression</td>\n",
       "      <td>0.67</td>\n",
       "      <td>0.67</td>\n",
       "      <td>0.63</td>\n",
       "      <td>major_left_skew</td>\n",
       "    </tr>\n",
       "    <tr>\n",
       "      <th>252</th>\n",
       "      <td>LinearSVC</td>\n",
       "      <td>0.66</td>\n",
       "      <td>0.66</td>\n",
       "      <td>0.63</td>\n",
       "      <td>major_left_skew</td>\n",
       "    </tr>\n",
       "    <tr>\n",
       "      <th>253</th>\n",
       "      <td>CalibratedClassifierCV</td>\n",
       "      <td>0.65</td>\n",
       "      <td>0.65</td>\n",
       "      <td>0.62</td>\n",
       "      <td>major_left_skew</td>\n",
       "    </tr>\n",
       "  </tbody>\n",
       "</table>\n",
       "</div>"
      ],
      "text/plain": [
       "                           Model  Balanced Accuracy  ROC AUC  F1 Score  \\\n",
       "2             LogisticRegression               0.66     0.66      0.63   \n",
       "11   PassiveAggressiveClassifier               0.57     0.57      0.49   \n",
       "22                     LinearSVC               0.47     0.47      0.31   \n",
       "23        CalibratedClassifierCV               0.47     0.47      0.31   \n",
       "26                    Perceptron               0.46     0.46      0.30   \n",
       "30                    Perceptron               0.68     0.68      0.65   \n",
       "32   PassiveAggressiveClassifier               0.66     0.66      0.64   \n",
       "33            LogisticRegression               0.66     0.66      0.64   \n",
       "35                     LinearSVC               0.61     0.61      0.61   \n",
       "37        CalibratedClassifierCV               0.60     0.60      0.60   \n",
       "54                    Perceptron               0.74     0.74      0.74   \n",
       "55        CalibratedClassifierCV               0.73     0.73      0.72   \n",
       "56   PassiveAggressiveClassifier               0.73     0.73      0.71   \n",
       "60            LogisticRegression               0.68     0.68      0.64   \n",
       "69                     LinearSVC               0.57     0.57      0.47   \n",
       "81                    Perceptron               0.73     0.73      0.72   \n",
       "82            LogisticRegression               0.73     0.73      0.71   \n",
       "91   PassiveAggressiveClassifier               0.61     0.61      0.56   \n",
       "95                     LinearSVC               0.54     0.54      0.44   \n",
       "96        CalibratedClassifierCV               0.54     0.54      0.44   \n",
       "108  PassiveAggressiveClassifier               0.70     0.70      0.69   \n",
       "109                    LinearSVC               0.68     0.68      0.65   \n",
       "112           LogisticRegression               0.67     0.67      0.64   \n",
       "117                   Perceptron               0.66     0.66      0.64   \n",
       "118       CalibratedClassifierCV               0.65     0.65      0.63   \n",
       "135  PassiveAggressiveClassifier               0.74     0.74      0.74   \n",
       "136       CalibratedClassifierCV               0.74     0.74      0.73   \n",
       "139                    LinearSVC               0.68     0.68      0.65   \n",
       "140           LogisticRegression               0.68     0.68      0.65   \n",
       "143                   Perceptron               0.67     0.67      0.64   \n",
       "166                   Perceptron               0.67     0.67      0.63   \n",
       "167       CalibratedClassifierCV               0.66     0.66      0.62   \n",
       "173                    LinearSVC               0.55     0.55      0.45   \n",
       "176  PassiveAggressiveClassifier               0.53     0.53      0.43   \n",
       "187           LogisticRegression               0.47     0.47      0.31   \n",
       "189                    LinearSVC               0.76     0.76      0.75   \n",
       "190       CalibratedClassifierCV               0.75     0.75      0.74   \n",
       "191  PassiveAggressiveClassifier               0.74     0.74      0.73   \n",
       "197                   Perceptron               0.67     0.67      0.64   \n",
       "198           LogisticRegression               0.67     0.67      0.63   \n",
       "224                   Perceptron               0.55     0.55      0.46   \n",
       "228                    LinearSVC               0.54     0.54      0.44   \n",
       "229       CalibratedClassifierCV               0.54     0.54      0.44   \n",
       "239           LogisticRegression               0.46     0.46      0.30   \n",
       "240  PassiveAggressiveClassifier               0.46     0.46      0.30   \n",
       "247                   Perceptron               0.67     0.67      0.64   \n",
       "248  PassiveAggressiveClassifier               0.67     0.67      0.64   \n",
       "249           LogisticRegression               0.67     0.67      0.63   \n",
       "252                    LinearSVC               0.66     0.66      0.63   \n",
       "253       CalibratedClassifierCV               0.65     0.65      0.62   \n",
       "\n",
       "          distribution  \n",
       "2               lowest  \n",
       "11              lowest  \n",
       "22              lowest  \n",
       "23              lowest  \n",
       "26              lowest  \n",
       "30             highest  \n",
       "32             highest  \n",
       "33             highest  \n",
       "35             highest  \n",
       "37             highest  \n",
       "54             uniform  \n",
       "55             uniform  \n",
       "56             uniform  \n",
       "60             uniform  \n",
       "69             uniform  \n",
       "81      expoential_low  \n",
       "82      expoential_low  \n",
       "91      expoential_low  \n",
       "95      expoential_low  \n",
       "96      expoential_low  \n",
       "108    expoential_high  \n",
       "109    expoential_high  \n",
       "112    expoential_high  \n",
       "117    expoential_high  \n",
       "118    expoential_high  \n",
       "135             normal  \n",
       "136             normal  \n",
       "139             normal  \n",
       "140             normal  \n",
       "143             normal  \n",
       "166  slight_right_skew  \n",
       "167  slight_right_skew  \n",
       "173  slight_right_skew  \n",
       "176  slight_right_skew  \n",
       "187  slight_right_skew  \n",
       "189   slight_left_skew  \n",
       "190   slight_left_skew  \n",
       "191   slight_left_skew  \n",
       "197   slight_left_skew  \n",
       "198   slight_left_skew  \n",
       "224   major_right_skew  \n",
       "228   major_right_skew  \n",
       "229   major_right_skew  \n",
       "239   major_right_skew  \n",
       "240   major_right_skew  \n",
       "247    major_left_skew  \n",
       "248    major_left_skew  \n",
       "249    major_left_skew  \n",
       "252    major_left_skew  \n",
       "253    major_left_skew  "
      ]
     },
     "execution_count": 43,
     "metadata": {},
     "output_type": "execute_result"
    }
   ],
   "source": [
    "top_experiments = combined_experiments[ combined_experiments['Model'].isin(top_models) ]\n",
    "top_experiment_data = top_experiments[['Model','Balanced Accuracy','ROC AUC','F1 Score','distribution']]\n",
    "top_experiment_data"
   ]
  },
  {
   "cell_type": "code",
   "execution_count": 30,
   "metadata": {},
   "outputs": [
    {
     "data": {
      "text/html": [
       "<div>\n",
       "<style scoped>\n",
       "    .dataframe tbody tr th:only-of-type {\n",
       "        vertical-align: middle;\n",
       "    }\n",
       "\n",
       "    .dataframe tbody tr th {\n",
       "        vertical-align: top;\n",
       "    }\n",
       "\n",
       "    .dataframe thead th {\n",
       "        text-align: right;\n",
       "    }\n",
       "</style>\n",
       "<table border=\"1\" class=\"dataframe\">\n",
       "  <thead>\n",
       "    <tr style=\"text-align: right;\">\n",
       "      <th></th>\n",
       "      <th>Balanced Accuracy</th>\n",
       "      <th>ROC AUC</th>\n",
       "      <th>F1 Score</th>\n",
       "      <th>distribution</th>\n",
       "    </tr>\n",
       "    <tr>\n",
       "      <th>Model</th>\n",
       "      <th></th>\n",
       "      <th></th>\n",
       "      <th></th>\n",
       "      <th></th>\n",
       "    </tr>\n",
       "  </thead>\n",
       "  <tbody>\n",
       "    <tr>\n",
       "      <th>LinearSVC</th>\n",
       "      <td>0.76</td>\n",
       "      <td>0.76</td>\n",
       "      <td>0.75</td>\n",
       "      <td>uniform</td>\n",
       "    </tr>\n",
       "    <tr>\n",
       "      <th>CalibratedClassifierCV</th>\n",
       "      <td>0.75</td>\n",
       "      <td>0.75</td>\n",
       "      <td>0.74</td>\n",
       "      <td>uniform</td>\n",
       "    </tr>\n",
       "    <tr>\n",
       "      <th>PassiveAggressiveClassifier</th>\n",
       "      <td>0.74</td>\n",
       "      <td>0.74</td>\n",
       "      <td>0.74</td>\n",
       "      <td>uniform</td>\n",
       "    </tr>\n",
       "    <tr>\n",
       "      <th>Perceptron</th>\n",
       "      <td>0.74</td>\n",
       "      <td>0.74</td>\n",
       "      <td>0.74</td>\n",
       "      <td>uniform</td>\n",
       "    </tr>\n",
       "    <tr>\n",
       "      <th>LogisticRegression</th>\n",
       "      <td>0.73</td>\n",
       "      <td>0.73</td>\n",
       "      <td>0.71</td>\n",
       "      <td>uniform</td>\n",
       "    </tr>\n",
       "  </tbody>\n",
       "</table>\n",
       "</div>"
      ],
      "text/plain": [
       "                             Balanced Accuracy  ROC AUC  F1 Score distribution\n",
       "Model                                                                         \n",
       "LinearSVC                                 0.76     0.76      0.75      uniform\n",
       "CalibratedClassifierCV                    0.75     0.75      0.74      uniform\n",
       "PassiveAggressiveClassifier               0.74     0.74      0.74      uniform\n",
       "Perceptron                                0.74     0.74      0.74      uniform\n",
       "LogisticRegression                        0.73     0.73      0.71      uniform"
      ]
     },
     "execution_count": 30,
     "metadata": {},
     "output_type": "execute_result"
    }
   ],
   "source": [
    "top_experiment_data.groupby(\"Model\").max().sort_values(\"Balanced Accuracy\", ascending = False)"
   ]
  },
  {
   "cell_type": "code",
   "execution_count": 37,
   "metadata": {},
   "outputs": [
    {
     "data": {
      "image/png": "[encoded data removed]",
      "text/plain": [
       "<Figure size 432x216 with 1 Axes>"
      ]
     },
     "metadata": {
      "needs_background": "light"
     },
     "output_type": "display_data"
    }
   ],
   "source": [
    "fig, ax = plt.subplots(1,1, figsize = (6,3))\n",
    "\n",
    "# ADD MAX CLUSTERING\n",
    "\n",
    "sbn.violinplot(data = top_experiments, x = 'Model', y = 'Balanced Accuracy', color = 'white', inner = None, ax = ax)\n",
    "              # palette = \"tab10\", ax = ax)\n",
    "    \n",
    "sbn.swarmplot(data = top_experiments, x = 'Model', y = 'Balanced Accuracy',\n",
    "              palette = \"tab10\", ax = ax)\n",
    "\n",
    "ax.set_xticklabels(ax.get_xticklabels(), rotation = 10, ha = 'right')\n",
    "\n",
    "sbn.despine()\n",
    "\n",
    "plt.tight_layout()\n",
    "plt.savefig(\"BestLazyPredModels.png\", dpi = 300)"
   ]
  },
  {
   "cell_type": "code",
   "execution_count": 32,
   "metadata": {},
   "outputs": [],
   "source": [
    "from functools import partial\n",
    "\n",
    "partial_heatmap_data = partial(pd.pivot_table, top_experiment_data, index = 'distribution', columns='Model')\n",
    "partial_clustermap_data = partial(pd.pivot_table, top_experiment_data, index = 'distribution', columns='Model')"
   ]
  },
  {
   "cell_type": "code",
   "execution_count": 33,
   "metadata": {},
   "outputs": [
    {
     "data": {
      "text/plain": [
       "distribution\n",
       "slight_left_skew    0.72\n",
       "normal              0.70\n",
       "uniform             0.69\n",
       "expoential_high     0.67\n",
       "major_left_skew     0.66\n",
       "highest             0.64\n",
       "expoential_low      0.63\n",
       "slight_right_skew   0.58\n",
       "slight_right_skew   0.58\n",
       "lowest              0.53\n",
       "dtype: float64"
      ]
     },
     "execution_count": 33,
     "metadata": {},
     "output_type": "execute_result"
    }
   ],
   "source": [
    "partial_heatmap_data(values = 'Balanced Accuracy').loc[['slight_left_skew','normal','uniform','expoential_high','major_left_skew','highest','expoential_low','slight_right_skew','slight_right_skew','lowest'],:].mean(axis=1)"
   ]
  },
  {
   "cell_type": "code",
   "execution_count": 34,
   "metadata": {},
   "outputs": [
    {
     "data": {
      "text/html": [
       "<div>\n",
       "<style scoped>\n",
       "    .dataframe tbody tr th:only-of-type {\n",
       "        vertical-align: middle;\n",
       "    }\n",
       "\n",
       "    .dataframe tbody tr th {\n",
       "        vertical-align: top;\n",
       "    }\n",
       "\n",
       "    .dataframe thead th {\n",
       "        text-align: right;\n",
       "    }\n",
       "</style>\n",
       "<table border=\"1\" class=\"dataframe\">\n",
       "  <thead>\n",
       "    <tr style=\"text-align: right;\">\n",
       "      <th>Model</th>\n",
       "      <th>CalibratedClassifierCV</th>\n",
       "      <th>LinearSVC</th>\n",
       "      <th>LogisticRegression</th>\n",
       "      <th>PassiveAggressiveClassifier</th>\n",
       "      <th>Perceptron</th>\n",
       "    </tr>\n",
       "    <tr>\n",
       "      <th>distribution</th>\n",
       "      <th></th>\n",
       "      <th></th>\n",
       "      <th></th>\n",
       "      <th></th>\n",
       "      <th></th>\n",
       "    </tr>\n",
       "  </thead>\n",
       "  <tbody>\n",
       "    <tr>\n",
       "      <th>slight_left_skew</th>\n",
       "      <td>0.75</td>\n",
       "      <td>0.76</td>\n",
       "      <td>0.67</td>\n",
       "      <td>0.74</td>\n",
       "      <td>0.67</td>\n",
       "    </tr>\n",
       "    <tr>\n",
       "      <th>normal</th>\n",
       "      <td>0.74</td>\n",
       "      <td>0.68</td>\n",
       "      <td>0.68</td>\n",
       "      <td>0.74</td>\n",
       "      <td>0.67</td>\n",
       "    </tr>\n",
       "    <tr>\n",
       "      <th>uniform</th>\n",
       "      <td>0.73</td>\n",
       "      <td>0.57</td>\n",
       "      <td>0.68</td>\n",
       "      <td>0.73</td>\n",
       "      <td>0.74</td>\n",
       "    </tr>\n",
       "    <tr>\n",
       "      <th>expoential_high</th>\n",
       "      <td>0.65</td>\n",
       "      <td>0.68</td>\n",
       "      <td>0.67</td>\n",
       "      <td>0.70</td>\n",
       "      <td>0.66</td>\n",
       "    </tr>\n",
       "    <tr>\n",
       "      <th>major_left_skew</th>\n",
       "      <td>0.65</td>\n",
       "      <td>0.66</td>\n",
       "      <td>0.67</td>\n",
       "      <td>0.67</td>\n",
       "      <td>0.67</td>\n",
       "    </tr>\n",
       "    <tr>\n",
       "      <th>highest</th>\n",
       "      <td>0.60</td>\n",
       "      <td>0.61</td>\n",
       "      <td>0.66</td>\n",
       "      <td>0.66</td>\n",
       "      <td>0.68</td>\n",
       "    </tr>\n",
       "    <tr>\n",
       "      <th>expoential_low</th>\n",
       "      <td>0.54</td>\n",
       "      <td>0.54</td>\n",
       "      <td>0.73</td>\n",
       "      <td>0.61</td>\n",
       "      <td>0.73</td>\n",
       "    </tr>\n",
       "    <tr>\n",
       "      <th>slight_right_skew</th>\n",
       "      <td>0.66</td>\n",
       "      <td>0.55</td>\n",
       "      <td>0.47</td>\n",
       "      <td>0.53</td>\n",
       "      <td>0.67</td>\n",
       "    </tr>\n",
       "    <tr>\n",
       "      <th>slight_right_skew</th>\n",
       "      <td>0.66</td>\n",
       "      <td>0.55</td>\n",
       "      <td>0.47</td>\n",
       "      <td>0.53</td>\n",
       "      <td>0.67</td>\n",
       "    </tr>\n",
       "    <tr>\n",
       "      <th>lowest</th>\n",
       "      <td>0.47</td>\n",
       "      <td>0.47</td>\n",
       "      <td>0.66</td>\n",
       "      <td>0.57</td>\n",
       "      <td>0.46</td>\n",
       "    </tr>\n",
       "  </tbody>\n",
       "</table>\n",
       "</div>"
      ],
      "text/plain": [
       "Model              CalibratedClassifierCV  LinearSVC  LogisticRegression  \\\n",
       "distribution                                                               \n",
       "slight_left_skew                     0.75       0.76                0.67   \n",
       "normal                               0.74       0.68                0.68   \n",
       "uniform                              0.73       0.57                0.68   \n",
       "expoential_high                      0.65       0.68                0.67   \n",
       "major_left_skew                      0.65       0.66                0.67   \n",
       "highest                              0.60       0.61                0.66   \n",
       "expoential_low                       0.54       0.54                0.73   \n",
       "slight_right_skew                    0.66       0.55                0.47   \n",
       "slight_right_skew                    0.66       0.55                0.47   \n",
       "lowest                               0.47       0.47                0.66   \n",
       "\n",
       "Model              PassiveAggressiveClassifier  Perceptron  \n",
       "distribution                                                \n",
       "slight_left_skew                          0.74        0.67  \n",
       "normal                                    0.74        0.67  \n",
       "uniform                                   0.73        0.74  \n",
       "expoential_high                           0.70        0.66  \n",
       "major_left_skew                           0.67        0.67  \n",
       "highest                                   0.66        0.68  \n",
       "expoential_low                            0.61        0.73  \n",
       "slight_right_skew                         0.53        0.67  \n",
       "slight_right_skew                         0.53        0.67  \n",
       "lowest                                    0.57        0.46  "
      ]
     },
     "execution_count": 34,
     "metadata": {},
     "output_type": "execute_result"
    }
   ],
   "source": [
    "partial_heatmap_data(values = 'Balanced Accuracy').loc[['slight_left_skew','normal','uniform','expoential_high','major_left_skew','highest','expoential_low','slight_right_skew','slight_right_skew','lowest'],:]"
   ]
  },
  {
   "cell_type": "code",
   "execution_count": 35,
   "metadata": {},
   "outputs": [
    {
     "data": {
      "image/png": "[encoded data removed]",
      "text/plain": [
       "<Figure size 504x288 with 6 Axes>"
      ]
     },
     "metadata": {
      "needs_background": "light"
     },
     "output_type": "display_data"
    }
   ],
   "source": [
    "fig = plt.figure(figsize = (7,4))\n",
    "gs = fig.add_gridspec(2,4, width_ratios=[0.42, 0.08, 0.42, 0.08], height_ratios=[0.05,0.95])\n",
    "\n",
    "cbar1 = fig.add_subplot(gs[0,:2])\n",
    "heatmap1 = fig.add_subplot(gs[1,0])\n",
    "average1 = fig.add_subplot(gs[1,1])\n",
    "\n",
    "cbar2 = fig.add_subplot(gs[0,2:])\n",
    "heatmap2 = fig.add_subplot(gs[1,2])\n",
    "average2 = fig.add_subplot(gs[1,-1])\n",
    "\n",
    "sbn.heatmap(partial_heatmap_data(values = 'Balanced Accuracy').loc[['slight_left_skew','normal','uniform','expoential_high','major_left_skew','highest','expoential_low','slight_right_skew','slight_right_skew','lowest'],:], \n",
    "            linewidths=1, cmap=\"coolwarm\", ax = heatmap1, cbar_ax = cbar1, cbar_kws = {'orientation': 'horizontal'})\n",
    "\n",
    "sbn.heatmap(pd.DataFrame(partial_heatmap_data(values = 'Balanced Accuracy').loc[['slight_left_skew','normal','uniform','expoential_high','major_left_skew','highest','expoential_low','slight_right_skew','slight_right_skew','lowest'],:].mean(axis=1)), \n",
    "            linewidths=1, yticklabels = False, xticklabels = False, cbar = False, annot = True, cmap=\"coolwarm\", ax = average1)\n",
    "\n",
    "cbar1.xaxis.tick_top()\n",
    "\n",
    "f1_cmap = sbn.diverging_palette(275, 130, s=80, l=55, as_cmap = True)\n",
    "\n",
    "sbn.heatmap(partial_heatmap_data(values = 'F1 Score').loc[['slight_left_skew','normal','uniform','expoential_high','major_left_skew','highest','expoential_low','slight_right_skew','slight_right_skew','lowest'],:], \n",
    "            linewidths=1, yticklabels=False, cmap = f1_cmap, ax = heatmap2, cbar_ax = cbar2, cbar_kws = {'orientation': 'horizontal'})\n",
    "\n",
    "sbn.heatmap(pd.DataFrame(partial_heatmap_data(values = 'F1 Score').loc[['slight_left_skew','normal','uniform','expoential_high','major_left_skew','highest','expoential_low','slight_right_skew','slight_right_skew','lowest'],:].mean(axis=1)), \n",
    "            linewidths=1, yticklabels = False, xticklabels = False, cbar = False, annot = True, cmap=f1_cmap, ax = average2)\n",
    "\n",
    "cbar2.xaxis.tick_top()\n",
    "\n",
    "for ax in [heatmap1,heatmap2]:\n",
    "    ax.xaxis.set_ticklabels(ax.xaxis.get_ticklabels(), rotation = 30, ha = 'right');\n",
    "\n",
    "heatmap1.yaxis.set_ticklabels([label.get_text().replace(\"_\",\" \") for label in heatmap1.yaxis.get_ticklabels()])\n",
    "\n",
    "heatmap1.set_ylabel(\"\")\n",
    "average1.set_ylabel(\"\")\n",
    "average2.set_ylabel(\"\")\n",
    "heatmap2.set_ylabel(\"\")\n",
    "\n",
    "heatmap1.set_xlabel(\"\")\n",
    "heatmap2.set_xlabel(\"\")\n",
    "\n",
    "# Using plt.tight_layout() just ruins everything\n",
    "# The rest of the modifications are made in PowerPoint\n",
    "plt.savefig(\"OptimalNegativeSamplingStrategy.png\", dpi = 300, bbox = \"tight\", pad_inches=0)"
   ]
  },
  {
   "cell_type": "code",
   "execution_count": 36,
   "metadata": {},
   "outputs": [],
   "source": [
    "class NegativeSampleGenerator():\n",
    "    \"\"\"\n",
    "    Difference magnitudes\n",
    "    Swiss ID position in matrix\n",
    "    RNAInter ID position in matrix\n",
    "    \n",
    "    Encoded RNAs: RNA RNAInter uniprot ID --> RNA partner name --> Encoded RNA\n",
    "    Encoded Swiss proteins: \n",
    "    \"\"\"\n",
    "    \n",
    "    def __init__(self, interaction_df, seed, n_bins, bin_weights, n_generated_samples):\n",
    "        assert n_bins == len(bin_weights), \"number of bins and bin weights must be identical\"\n",
    "        self.seed = seed\n",
    "        self.n_bins = n_bins\n",
    "        self.bin_weights = bin_weights\n",
    "        self.n_generated_samples = n_generated_samples\n",
    "        \n",
    "        # Negative sample indecies generator\n",
    "        self.negative_idx_generator = NegativeSampleIdxGenerator(self.seed)\n",
    "        self.bin_assigner = KBinsDiscretizer(n_bins = self.n_bins, encode = 'ordinal')\n",
    "        \n",
    "        # rna_embedder = SkipGramEmbedder(\"../SeqEmbedders/GensimWord2Vec/RNA2Vec_1024_hidden.model\", reduce = True)\n",
    "        \n",
    "        def generate_rna_name2tensor(rna_embedder):\n",
    "            rnainter_rna_to_tensor_converter = RNAInterRNACovnerter()\n",
    "            rnaname2tensor = rnainter_rna_to_tensor_converter.generate_rna_name_to_encoded_tensor_dict_from_df(self.uniprot2rnaname.values(), reduced_positive_df, rna_embedder)\n",
    "            return rnaname2tensor\n",
    "        \n",
    "#         rnainter_idconverter = RNAInterIDConverter(seed = 255)\n",
    "#         rnainter_protein_rna_pairs = rnainter_idconverter.get_unique_protein_uniprot_ids_and_rna_pair_from_df(reduced_positive_df)\n",
    "#         uniprot2rnaname = dict(rnainter_protein_rna_pairs)\n",
    "\n",
    "        # Correct\n",
    "        self.uniprot2rna_partner = dict(RNAInterRNACovnerter(self.seed).get_unique_protein_uniprot_ids_and_rna_pair_from_df(interaction_df))\n",
    "        \n",
    "        # Correct\n",
    "        self.rnaname2tensor = generate_rna_name2tensor( SkipGramEmbedder(\"../SeqEmbedders/GensimWord2Vec/RNA2Vec_1024_hidden.model\", reduce = True) )\n",
    "        \n",
    "        #\n",
    "        self.rnainter_uniprot2swiss = 'test'\n",
    "        self.swiss2tensor = 'test'\n",
    "    \n",
    "    def get_new_encoded_swiss_partner_from_rnainter_uniprot_id(rnainter_swiss_id_pair: tuple) -> torch.tensor:\n",
    "        _, swiss_id = rnainter_swiss_id_pair\n",
    "        encoded_swiss_seq = swiss2tensor[swiss_id]\n",
    "        return encoded_swiss_seq\n",
    "    \n",
    "    def get_rna_partner_from_rnainter_uniprot_id(uniprot_id : str) -> torch.tensor:\n",
    "        rna_partner_name = self.uniprot2rnaname[uniprot_id]\n",
    "        encoded_rna_partner = self.rnaname2tensor[rna_partner_name]\n",
    "        return encoded_rna_partner\n",
    "    \n",
    "    def return_negative_samples(negative_pairs):\n",
    "        encoded_rnas = list()\n",
    "        encoded_swiss_prots = list()\n",
    "        non_interaction = torch.zeros(len(negative_pairs))\n",
    "\n",
    "        for negative_pair in negative_pairs:\n",
    "            encoded_rna = self.get_rna_partner_from_rnainter_uniprot_id(negative_pair[0])\n",
    "            encoded_swiss_protein = self.get_new_encoded_swiss_partner_from_rnainter_uniprot_id(negative_pair)\n",
    "\n",
    "            encoded_rnas.append(encoded_rna)\n",
    "            encoded_swiss_prots.append(encoded_swiss_protein)\n",
    "\n",
    "        encoded_rnas = torch.stack(encoded_rnas)\n",
    "        encoded_swiss_prots = torch.stack(encoded_swiss_prots)\n",
    "\n",
    "        return encoded_swiss_prots, encoded_rnas, non_interaction\n",
    "    \n",
    "    ##########################################################################\n",
    "    def generate_negative_samples(self, difference_magnitudes, rnainter_ids, swiss_ids):\n",
    "        assert len(difference_magnitudes) == len(rnainter_ids) == len(swiss_ids), \\\n",
    "        f\"Difference magnitudes, RNAInter IDs and Swiss IDs need to be the same length Got {len(difference_magnitudes)}, {len(rnainter_ids)}, {len(swiss_ids)} entries for the difference magnitudes, RNAInter IDs, and Swiss IDs respectively\"\n",
    "        \n",
    "        # Assign difference magnitudes into bins and generate the negative sample indeces\n",
    "        bins = self.bin_assigner.fit_transform(difference_magnitudes).squeeze().astype(int)\n",
    "        negative_sample_idxs = self.negative_idx_generator.generate_negative_sample_idxs_from_bins(bins, self.bin_weights, self.n_generated_samples)\n",
    "        \n",
    "        # Isolate X\n",
    "        X = combos[negative_sample_idxs]\n",
    "        self.negative_idx_generator(rnainter_ids)\n",
    "        \n",
    "        # 1. Generate negative sample IDs\n",
    "        # 2. Isolate RNA and protein IDs for each position\n",
    "        # 3. Convert RNAs --> vectors\n",
    "        # 4. Swap RNAInter prot IDs w/ Swiss IDs --> vectors\n",
    "        # 5. Add 0\n",
    "        # return (prot tesnors, rna tensors, 0)\n",
    "        pass"
   ]
  },
  {
   "cell_type": "markdown",
   "metadata": {},
   "source": [
    "# Generate training data"
   ]
  },
  {
   "cell_type": "code",
   "execution_count": 55,
   "metadata": {},
   "outputs": [],
   "source": [
    "# This is split anc concatted properly\n"
   ]
  },
  {
   "cell_type": "code",
   "execution_count": 56,
   "metadata": {},
   "outputs": [],
   "source": [
    "# train_dataset = EncodedRPIDataset(train_data)\n",
    "# val_dataset = EncodedRPIDataset(val_data)\n",
    "\n",
    "# loaders = DataLoaders.from_dsets(train_dataset, val_dataset,\n",
    "#                                  bs = 32,\n",
    "#                                  device = 0)"
   ]
  },
  {
   "cell_type": "markdown",
   "metadata": {},
   "source": [
    "# Train models using positive and negative data\n",
    "\n",
    "Find package that automatically trains all the models using our training data"
   ]
  },
  {
   "cell_type": "code",
   "execution_count": null,
   "metadata": {},
   "outputs": [],
   "source": []
  },
  {
   "cell_type": "markdown",
   "metadata": {},
   "source": [
    "## Old \"Train models using positive and negative data\"\n",
    "\n",
    "contains model optimization that handles default hyperparameter opt. I need to come back to this and make sure that\n",
    "everything works"
   ]
  },
  {
   "cell_type": "code",
   "execution_count": 3,
   "metadata": {},
   "outputs": [],
   "source": [
    "from torch.utils.data import Dataset\n",
    "\n",
    "class EncodedRPIDataset(Dataset):\n",
    "    def __init__(self, data):\n",
    "        super().__init__()\n",
    "        self.encoded_proteins = data[0]\n",
    "        self.encoded_rnas = data[1]\n",
    "        self.interaction = data[2]\n",
    "    \n",
    "    def __len__(self):\n",
    "        return len(self.encoded_proteins)\n",
    "    \n",
    "    def __getitem__(self, idx):\n",
    "        return self.encoded_proteins[idx], self.encoded_rnas[idx], self.interaction[idx]"
   ]
  },
  {
   "cell_type": "code",
   "execution_count": 4,
   "metadata": {},
   "outputs": [],
   "source": [
    "import yaml\n",
    "\n",
    "class DefaultHyperparameterHandler:\n",
    "    \"\"\"\n",
    "    Nabbed from \"data_handlers\", put back in there when completed\n",
    "    \n",
    "    --------\n",
    "    Designed to load default hyperparameters for a MainModel that has\n",
    "    not been previously optimized through the nni wrapper. Assumes a\n",
    "    model name of \"RNA_{block}_Prot_{block}\"\n",
    "    \n",
    "    Relies on the find_default_hyperparams funciton. This parses the\n",
    "    default hyperparameters file for a given MainModel block name and\n",
    "    returns the parameters for an RNA and Protein block in addition to \n",
    "    the default parameters used for the MainModel class. \n",
    "    \"\"\"\n",
    "    \n",
    "    def __init__(self, default_hyperparam_path : str):\n",
    "        self.file_name = default_hyperparam_path\n",
    "        \n",
    "#         def convert_act_strings_to_activations(default_params):\n",
    "#             \"\"\"\n",
    "#             I finally get to use a recurrent function, yay!\n",
    "#             ---\n",
    "#             Recursively searches through the default parameters dictionaries\n",
    "#             for pytorch activation function strings. Converts them to real\n",
    "#             pytorch activation functions. \n",
    "#             \"\"\"\n",
    "#             for key, value in default_params.items():\n",
    "#                 if type(value) is dict:\n",
    "#                     convert_act_strings_to_activations(value)\n",
    "#                 elif type(value) == str:\n",
    "#                     if value[:3] == 'nn.':\n",
    "#                         default_params[key] = eval(value)\n",
    "        \n",
    "        with open(default_hyperparam_path) as handle:\n",
    "            self.default_params = yaml.load(handle, Loader = yaml.FullLoader)\n",
    "            # convert_act_strings_to_activations(self.default_params)\n",
    "            \n",
    "    def _split_into_blocks(self, model_str : str) -> tuple:\n",
    "        model_parts = model_str.split('_')\n",
    "        rna_params, protein_params = model_parts[1], model_parts[3]\n",
    "        return rna_params, protein_params\n",
    "    \n",
    "    def split_hyperparameters_into_blocks(self, rna_block_name : str, prot_block_name : str) -> tuple:\n",
    "        \n",
    "        assert rna_block_name in self.default_params.keys(), \\\n",
    "        f\"RNA block name must be: {list(self.default_params.keys())}. Received {rna_block_name}\"\n",
    "        \n",
    "        assert prot_block_name in self.default_params.keys(), \\\n",
    "        f\"RNA block name must be: {list(self.default_params.keys())}. Received {prot_block_name}\"\n",
    "        \n",
    "        main_params = self.default_params[\"MainModel\"]\n",
    "        rna_params  = self.default_params[rna_block_name]\n",
    "        prot_params = self.default_params[prot_block_name]\n",
    "    \n",
    "        return main_params, rna_params, prot_params\n",
    "        \n",
    "    def find_default_hyperparams(self, model_name):\n",
    "        \"\"\n",
    "        rna_block_name, prot_block_name = self._split_into_blocks(model_name)\n",
    "        main_params, prot_params, rna_params = self.split_hyperparameters_into_blocks(rna_block_name, prot_block_name)\n",
    "        return main_params, prot_params, rna_params\n",
    "        "
   ]
  },
  {
   "cell_type": "code",
   "execution_count": 5,
   "metadata": {},
   "outputs": [],
   "source": [
    "with open(\"../Data/TrainingData/ReducedEmbeddedTrainingData_2D.pickle\",'rb') as infile:\n",
    "    data = pickle.load(infile)"
   ]
  },
  {
   "cell_type": "code",
   "execution_count": 6,
   "metadata": {},
   "outputs": [
    {
     "data": {
      "text/plain": [
       "torch.Size([9752, 1024, 100])"
      ]
     },
     "execution_count": 6,
     "metadata": {},
     "output_type": "execute_result"
    }
   ],
   "source": [
    "data[1].shape"
   ]
  },
  {
   "cell_type": "code",
   "execution_count": 7,
   "metadata": {},
   "outputs": [],
   "source": [
    "# def MainModelHyperparameter:\n",
    "#     \"\"\"\n",
    "    \n",
    "#     \"\"\"\n",
    "    \n",
    "#     def __init__(self, X):\n",
    "#         pass\n",
    "    \n",
    "#     def"
   ]
  },
  {
   "cell_type": "code",
   "execution_count": 8,
   "metadata": {},
   "outputs": [],
   "source": [
    "DEFAULT_HYPERPARAM_PATH = \"../Data/ModelHyperparameters/DefaultHyperparameters.yaml\"\n",
    "default_hyperparam_handler = DefaultHyperparameterHandler(DEFAULT_HYPERPARAM_PATH)"
   ]
  },
  {
   "cell_type": "code",
   "execution_count": 9,
   "metadata": {},
   "outputs": [
    {
     "data": {
      "text/plain": [
       "{'MainModel': {'batchsize': 32,\n",
       "  'dense_hidden_layers': [5000, 3000, 1000, 500, 100, 50],\n",
       "  'p': 0.3,\n",
       "  'act': 'nn.LeakyReLU()',\n",
       "  'bn': True},\n",
       " 'Dense': {'hidden_layer_sizes': [80, 60, 40, 20],\n",
       "  'bn': True,\n",
       "  'p': 0.2,\n",
       "  'act': 'nn.LeakyReLU()'},\n",
       " 'ConvPool': {'conv_channel_sizes': [110, 20],\n",
       "  'pooling_kernel_sizes': 2,\n",
       "  'pooling_type': 'mixed',\n",
       "  'mixed_a': 0.5,\n",
       "  'ks': 3,\n",
       "  'act_cls': 'nn.LeakyReLU()',\n",
       "  'conv_kwargs': {'act_cls': 'nn.LeakyReLU()'},\n",
       "  'pooling_kwargs': {'stride': 1}},\n",
       " 'Reccurent': {'reccurent_type': 'LSTM',\n",
       "  'bidirectional': True,\n",
       "  'dropout': 0.3,\n",
       "  'num_layers': 3,\n",
       "  'hidden_size': 40},\n",
       " 'Attention': {'layer_count': 16},\n",
       " 'StackedRes': {'hidden_sizes': [100]}}"
      ]
     },
     "execution_count": 9,
     "metadata": {},
     "output_type": "execute_result"
    }
   ],
   "source": [
    "default_hyperparam_handler.default_params"
   ]
  },
  {
   "cell_type": "code",
   "execution_count": 10,
   "metadata": {},
   "outputs": [],
   "source": [
    "X = torch.rand(32,1024)\n",
    "prot_Y = torch.rand(32,112,1024)\n",
    "rna_Y  = torch.rand(32,100,1024)"
   ]
  },
  {
   "cell_type": "code",
   "execution_count": 11,
   "metadata": {},
   "outputs": [
    {
     "name": "stdout",
     "output_type": "stream",
     "text": [
      "torch.Size([23, 100, 20])\n",
      "torch.Size([23, 20, 100])\n"
     ]
    }
   ],
   "source": [
    "# GOAL: swap last two tensors\n",
    "x = torch.rand(23,100,20)\n",
    "print(x.shape)\n",
    "x = torch.swapaxes(x,-1,1)\n",
    "print(x.shape)\n"
   ]
  },
  {
   "cell_type": "code",
   "execution_count": 12,
   "metadata": {},
   "outputs": [],
   "source": [
    "from Utils.model_blocks import *"
   ]
  },
  {
   "cell_type": "code",
   "execution_count": 13,
   "metadata": {},
   "outputs": [],
   "source": [
    "class BlockInputSizeCalculator:\n",
    "    \"\"\"\n",
    "    \n",
    "    \"\"\"\n",
    "    \n",
    "    def __init__(self, max_rna_len, max_prot_len):\n",
    "        self.max_rna_len = max_rna_len\n",
    "        self.max_prot_len = max_prot_len\n",
    "\n",
    "    def calculate_one_dim_block_input_sizes(self, block, input_tensor):\n",
    "        if block not in ['ConvPool']:\n",
    "            return 1024,1024\n",
    "        else:\n",
    "            return self.max_rna_len, self.max_prot_len\n",
    "            \n",
    "    def calculate_two_dim_block_input_sizes(self, block, input_tensor):\n",
    "        if block not in ['ConvPool', 'Dense']:\n",
    "            return 1024,1024\n",
    "        \n",
    "        if block == 'Dense':\n",
    "            _, width, channel_length = input_tensor.shape\n",
    "            dense_input_size = width * channel_length\n",
    "            return dense_input_size\n",
    "        else:\n",
    "            return self.max_rna_len, self.max_prot_len\n",
    "        \n",
    "    def calculate_block_input_sizes(self, block, input_tensor):\n",
    "        if len(input_tensor.shape) == 2:\n",
    "            return self.calculate_one_dim_block_input_sizes(block, input_tensor)\n",
    "        if len(input_tensor.shape) > 2:\n",
    "            return self.calculate_two_dim_block_input_sizes(block, input_tensor)"
   ]
  },
  {
   "cell_type": "code",
   "execution_count": 14,
   "metadata": {},
   "outputs": [],
   "source": [
    "import re\n",
    "\n",
    "class BlockInializer:\n",
    "    \"\"\"\n",
    "    Used to initialize blocks from a string.\n",
    "    \n",
    "    NOTE: This class is only used in this notebook\n",
    "    \"\"\"\n",
    "    \n",
    "    def _reformat_block_act(self, block_params):\n",
    "        preprocessed_block_str = re.sub(r\"'act': 'nn.(.+)\\(\\)'\", r\"'act': nn.\\1()\", block_params)\n",
    "        return preprocessed_block_str\n",
    "    \n",
    "    def generate_block_str(self, block_name, input_size, block_params):\n",
    "        return f\"{block_name}Block({input_size}, **{block_params})\"\n",
    "    \n",
    "    def initialize_block(self, block_name, input_size, block_params):\n",
    "        block_str = self.generate_block_str(block_name, input_size, block_params)\n",
    "        preprocessed_block_str = self._reformat_block_act(block_str)\n",
    "        return eval(preprocessed_block_str)\n",
    "    "
   ]
  },
  {
   "cell_type": "code",
   "execution_count": 15,
   "metadata": {},
   "outputs": [],
   "source": [
    "from Utils.train import BlockInputShapeReformatter, MainModelDenseInputSizeCalculator"
   ]
  },
  {
   "cell_type": "code",
   "execution_count": 16,
   "metadata": {},
   "outputs": [
    {
     "name": "stdout",
     "output_type": "stream",
     "text": [
      "torch.Size([32, 1024])\n",
      "torch.Size([32, 100, 1024])\n",
      "torch.Size([32, 112, 1024])\n"
     ]
    }
   ],
   "source": [
    "print(X.shape)\n",
    "print(rna_Y.shape)\n",
    "print(prot_Y.shape)\n",
    "\n",
    "blocks = list(default_hyperparam_handler.default_params.keys())[1:]"
   ]
  },
  {
   "cell_type": "code",
   "execution_count": 44,
   "metadata": {},
   "outputs": [
    {
     "name": "stdout",
     "output_type": "stream",
     "text": [
      "\n",
      "RNA: Dense | Prot: Dense\n",
      "---\n",
      "ERROR: 'BlockInializer' object has no attribute 'initialize_block_from_str'\n",
      "\n",
      "RNA: ConvPool | Prot: ConvPool\n",
      "---\n",
      "ERROR: 'BlockInializer' object has no attribute 'initialize_block_from_str'\n",
      "ERROR: 'BlockInializer' object has no attribute 'initialize_block_from_str'\n",
      "\n",
      "RNA: Reccurent | Prot: Reccurent\n",
      "---\n",
      "ERROR: 'BlockInializer' object has no attribute 'initialize_block_from_str'\n",
      "\n",
      "RNA: Attention | Prot: Attention\n",
      "---\n",
      "ERROR: 'BlockInializer' object has no attribute 'initialize_block_from_str'\n",
      "\n",
      "RNA: StackedRes | Prot: StackedRes\n",
      "---\n",
      "ERROR: 'BlockInializer' object has no attribute 'initialize_block_from_str'\n"
     ]
    }
   ],
   "source": [
    "##########################################\n",
    "# Test individual block creation\n",
    "##########################################\n",
    "\n",
    "for block in blocks:\n",
    "    print(f\"\"\"\n",
    "RNA: {block} | Prot: {block}\n",
    "---\"\"\")\n",
    "    \n",
    "    _, rna_params, protein_params = default_hyperparam_handler.find_default_hyperparams(f\"RNA_{block}_Protein_{block}\")\n",
    "    \n",
    "    input_size_calculator = BlockInputSizeCalculator(max_rna_len = 100, max_prot_len = 110)\n",
    "    block_initializer = BlockInializer()\n",
    "    shape_reformatter = BlockInputShapeReformatter()\n",
    "    \n",
    "    if block == 'ConvPool':\n",
    "        try:\n",
    "            rna_input_size, prot_input_size = input_size_calculator.calculate_block_input_sizes(block, prot_Y)\n",
    "\n",
    "            formatted_rna_input = shape_reformatter.reformat_input(block, rna_Y)\n",
    "            formatted_prot_input = shape_reformatter.reformat_input(block, prot_Y)\n",
    "\n",
    "            rna_block = block_initializer.initialize_block_from_str(block, rna_input_size, rna_params)\n",
    "            prot_block = block_initializer.initialize_block_from_str(block, prot_input_size, protein_params)\n",
    "\n",
    "            rna_block(formatted_rna_input)\n",
    "            print(\"2D RNA Input success\")\n",
    "\n",
    "            prot_block(formatted_prot_input)\n",
    "            print(\"2D Protein Input success\")\n",
    "\n",
    "        except:\n",
    "            print(f\"ERROR: {sys.exc_info()[1]}\")\n",
    "    \n",
    "    try:\n",
    "        rna_input_size, prot_input_size = input_size_calculator.calculate_block_input_sizes(block, X)\n",
    "        \n",
    "        formatted_input = shape_reformatter.reformat_input(block, X)\n",
    "        \n",
    "        rna_block = block_initializer.initialize_block_from_str(block, rna_input_size, rna_params)\n",
    "        \n",
    "#         if block == 'StackedRes':\n",
    "#             print(rna_block)\n",
    "            \n",
    "        prot_block = block_initializer.initialize_block_from_str(block, prot_input_size, protein_params)\n",
    "        \n",
    "        rna_block(formatted_input)\n",
    "        prot_block(formatted_input)\n",
    "        print(\"1D Input success\")\n",
    "        \n",
    "    except:\n",
    "        print(f\"ERROR: {sys.exc_info()[1]}\")\n",
    "    \n",
    "    "
   ]
  },
  {
   "cell_type": "code",
   "execution_count": 45,
   "metadata": {},
   "outputs": [
    {
     "name": "stdout",
     "output_type": "stream",
     "text": [
      "---\n",
      "RNA: Dense | Prot: Dense\n",
      "ERROR: name 'InputSizeCalculator' is not defined\n",
      "---\n",
      "RNA: ConvPool | Prot: ConvPool\n",
      "ERROR: __init__() got multiple values for argument 'conv_channel_sizes'\n",
      "---\n",
      "RNA: Reccurent | Prot: Reccurent\n",
      "ERROR: name 'InputSizeCalculator' is not defined\n",
      "---\n",
      "RNA: Attention | Prot: Attention\n",
      "ERROR: name 'InputSizeCalculator' is not defined\n",
      "---\n",
      "RNA: StackedRes | Prot: StackedRes\n",
      "ERROR: name 'InputSizeCalculator' is not defined\n"
     ]
    }
   ],
   "source": [
    "###############################\n",
    "# Test main model incorperation\n",
    "###############################\n",
    "\n",
    "# main_model_params, rna_params, protein_params = default_hyperparam_handler.find_default_hyperparams(f\"RNA_{block}_Protein_{block}\")\n",
    "\n",
    "# BATCHSIZE = main_model_params.pop('batchsize')\n",
    "# MAIN_ACT = eval(main_model_params.pop('act'))\n",
    "\n",
    "for block in blocks:\n",
    "    print(f\"---\\nRNA: {block} | Prot: {block}\")\n",
    "    _, rna_params, protein_params = default_hyperparam_handler.find_default_hyperparams(f\"RNA_{block}_Protein_{block}\")\n",
    "    \n",
    "    block_input_size_calculator = BlockInputSizeCalculator(max_rna_len = 100, max_prot_len = 110)\n",
    "    block_initializer = BlockInializer()\n",
    "    shape_reformatter = BlockInputShapeReformatter()\n",
    "    \n",
    "    try:\n",
    "        rna_input_size, prot_input_size = block_input_size_calculator.calculate_block_input_sizes(block, X)\n",
    "        \n",
    "        formatted_input = shape_reformatter.reformat_input(block, X)\n",
    "        \n",
    "        rna_block = block_initializer.initialize_block(block, rna_input_size, rna_params)\n",
    "        prot_block = block_initializer.initialize_block(block, prot_input_size, protein_params)\n",
    "        \n",
    "        input_calculator = InputSizeCalculator(formatted_input, formatted_input)\n",
    "    \n",
    "        input_size = input_calculator.calcualte_input_shape(rna_blocks  = [rna_block.cpu()], \n",
    "                                                            prot_blocks = [prot_block.cpu()])\n",
    "        \n",
    "        model = MainModel(rna_blocks  = [rna_block],\n",
    "                          prot_blocks = [prot_block],\n",
    "                          dense_input_size = input_size,\n",
    "                          act = MAIN_ACT,\n",
    "                          **main_model_params)\n",
    "        \n",
    "        model(formatted_input,formatted_input)\n",
    "        \n",
    "        print(\"Blocks passed through MainModel\")\n",
    "        \n",
    "    except:\n",
    "        print(f\"ERROR: {sys.exc_info()[1]}\")\n",
    "    \n",
    "#     if block == 'ConvPool':\n",
    "#         try:\n",
    "#             rna_input_size, prot_input_size = input_size_calculator.calculate_block_input_sizes(block, prot_Y)\n",
    "\n",
    "#             formatted_rna_input = shape_reformatter.reformat_input(block, rna_Y)\n",
    "#             formatted_prot_input = shape_reformatter.reformat_input(block, prot_Y)\n",
    "\n",
    "#             rna_block = block_initializer.initialize_block_from_str(block, rna_input_size, rna_params)\n",
    "#             prot_block = block_initializer.initialize_block_from_str(block, prot_input_size, protein_params)\n",
    "\n",
    "#             rna_block(formatted_rna_input)\n",
    "#             print(\"2D RNA Input success\")\n",
    "\n",
    "#             prot_block(formatted_prot_input)\n",
    "#             print(\"2D Protein Input success\")\n",
    "\n",
    "#         except:\n",
    "#             print(f\"ERROR: {sys.exc_info()[1]}\")"
   ]
  },
  {
   "cell_type": "code",
   "execution_count": 46,
   "metadata": {},
   "outputs": [
    {
     "name": "stdout",
     "output_type": "stream",
     "text": [
      "Attention success\n",
      "Reccurent success\n",
      "StackedRes success\n",
      "Dense success\n",
      "DenseProtSAE success\n",
      "DenseRNASAE success\n"
     ]
    }
   ],
   "source": [
    "###############################\n",
    "# Test 1D blocks invidiually\n",
    "# \n",
    "# ConvPool is not applicable here\n",
    "###############################\n",
    "\n",
    "attention = AttentionBlock(1024, layer_count = 100)\n",
    "attention(X)\n",
    "\n",
    "print(\"Attention success\")\n",
    "\n",
    "reccurent = ReccurentBlock(1024, reccurent_type = 'LSTM', bidirectional = True, dropout = 0.3, num_layers = 3, hidden_size = 40)\n",
    "reccurent(X.unsqueeze(1))\n",
    "\n",
    "print(\"Reccurent success\")\n",
    "\n",
    "stackedres = StackedResBlock(1024, [100])\n",
    "# print(stackedres)\n",
    "stackedres(X.unsqueeze(-1));\n",
    "\n",
    "print(\"StackedRes success\")\n",
    "\n",
    "dense = DenseBlock(1024, [500])\n",
    "dense(X)\n",
    "\n",
    "print(\"Dense success\")\n",
    "\n",
    "prot_sae_block = SAEBlock('Dense','/data/Chapter_3/Notebooks/ProtBERT_encoded_110_swissprot_DenseSAE.pt').cpu()\n",
    "prot_sae_block(X)\n",
    "\n",
    "print(\"DenseProtSAE success\")\n",
    "\n",
    "rna_sae_block = SAEBlock('Dense','/data/Chapter_3/Notebooks/rnavec_encoded_aggregated_u_t_swapped_rnas_DenseSAE.pt').cpu()\n",
    "rna_sae_block(X)\n",
    "\n",
    "print(\"DenseRNASAE success\")"
   ]
  },
  {
   "cell_type": "code",
   "execution_count": 47,
   "metadata": {},
   "outputs": [
    {
     "name": "stdout",
     "output_type": "stream",
     "text": [
      "Attention:\n",
      "---\n",
      "Prot success\n",
      "RNA success\n",
      "\n",
      "Reccurent:\n",
      "---\n",
      "Prot success\n",
      "RNA success\n",
      "\n",
      "ConvPool:\n",
      "---\n",
      "INPUT SHAPE: torch.Size([32, 112, 1024])\n",
      "Prot success\n",
      "INPUT SHAPE: torch.Size([32, 100, 1024])\n",
      "RNA success\n",
      "\n",
      "StackedRes:\n",
      "---\n",
      "Prot success\n",
      "RNA success\n",
      "\n",
      "Dense:\n",
      "---\n",
      "Prot success\n",
      "RNA success\n"
     ]
    }
   ],
   "source": [
    "###############################\n",
    "# Test 2D blocks invidiually\n",
    "###############################\n",
    "\n",
    "print(\"\"\"Attention:\n",
    "---\"\"\")\n",
    "attention = AttentionBlock(112, layer_count = 10)\n",
    "attention(prot_Y)\n",
    "print(\"Prot success\")\n",
    "\n",
    "attention = AttentionBlock(100, layer_count = 10)\n",
    "attention(rna_Y)\n",
    "print(\"RNA success\")\n",
    "\n",
    "\n",
    "print(\"\"\"\n",
    "Reccurent:\n",
    "---\"\"\")\n",
    "reccurent = ReccurentBlock(1024, reccurent_type = 'LSTM', bidirectional = True, dropout = 0.3, num_layers = 3, hidden_size = 40)\n",
    "reccurent(prot_Y)\n",
    "\n",
    "print(\"Prot success\")\n",
    "\n",
    "reccurent = ReccurentBlock(1024, reccurent_type = 'LSTM', bidirectional = True, dropout = 0.3, num_layers = 3, hidden_size = 40)\n",
    "reccurent(rna_Y)\n",
    "print(\"RNA success\")\n",
    "\n",
    "print(\"\"\"\n",
    "ConvPool:\n",
    "---\"\"\")\n",
    "# NEEDSSS 2D INPUT, cannot be a restructured 1D input\n",
    "# Input format as: Batchsize x Sequence position x Vector\n",
    "convpool = ConvPoolBlock(conv_channel_sizes = [112,50,25], pooling_kernel_sizes = 2, pooling_type = 'mixed', mixed_a = 0.5)\n",
    "convpool(prot_Y)\n",
    "print(\"Prot success\")\n",
    "\n",
    "convpool = ConvPoolBlock(conv_channel_sizes = [100,50,25], \n",
    "                         pooling_kernel_sizes = 2, pooling_type = 'mixed', mixed_a = 0.5)\n",
    "convpool(rna_Y)\n",
    "print(\"RNA success\")\n",
    "\n",
    "print(\"\"\"\n",
    "StackedRes:\n",
    "---\"\"\")\n",
    "stackedres = StackedResBlock(112, [100])\n",
    "stackedres(prot_Y);\n",
    "print(\"Prot success\")\n",
    "\n",
    "stackedres = StackedResBlock(100, [100])\n",
    "stackedres(rna_Y);\n",
    "print(\"RNA success\")\n",
    "\n",
    "print(\"\"\"\n",
    "Dense:\n",
    "---\"\"\")\n",
    "dense = DenseBlock(1024*112, [500])\n",
    "dense(prot_Y.reshape(32,1024*112))\n",
    "print(\"Prot success\")\n",
    "\n",
    "dense = DenseBlock(1024*100, [500])\n",
    "dense(rna_Y.reshape(32,1024*100))\n",
    "print(\"RNA success\")\n",
    "\n",
    "####################################################\n",
    "# Train Conv SAEs and then test\n",
    "####################################################\n",
    "\n",
    "# prot_sae_block = SAEBlock('Conv','/data/Chapter_3/Notebooks/ProtBERT_encoded_110_swissprot_DenseSAE.pt').cpu()\n",
    "# prot_conv_sae_block(Y)\n",
    "\n",
    "# rna_sae_block = SAEBlock('Conv','/data/Chapter_3/Notebooks/rnavec_encoded_aggregated_u_t_swapped_rnas_DenseSAE.pt').cpu()\n",
    "# rna_conv_sae_block(Y)"
   ]
  },
  {
   "cell_type": "code",
   "execution_count": 17,
   "metadata": {},
   "outputs": [],
   "source": [
    "class ConvPoolBlock(nn.Module):\n",
    "    \"Try max pool, average pool, and average pool\"\n",
    "    \n",
    "    def __init__(self, conv_channel_sizes, pooling_kernel_sizes, \n",
    "                 pooling_type, mixed_a = 0.5,\n",
    "                 conv_kwargs = dict(), pool_kwargs = dict()):\n",
    "        super().__init__()\n",
    "        \n",
    "        assert pooling_type in ['max','avg','mixed'] \n",
    "        assert len(conv_channel_sizes) >= 2\n",
    "        \n",
    "        if type(pooling_kernel_sizes) == int:\n",
    "            self.pooling_kernel_sizes = [pooling_kernel_sizes for _ in range(len(conv_channel_sizes)-1)]\n",
    "        \n",
    "        self.conv_channel_sizes   = conv_channel_sizes\n",
    "        \n",
    "        assert 0 <= mixed_a <= 1, \"mixed_a must be between 0 and 1\"\n",
    "        assert len(self.conv_channel_sizes)-1 == len(self.pooling_kernel_sizes), \\\n",
    "        \"need equal number of conv_channel_sizes and pooling_kernel_sizes\"\n",
    "        \n",
    "        self.pooling_type = pooling_type\n",
    "        \n",
    "        self.conv_kwargs = conv_kwargs\n",
    "        self.pool_kwargs = pool_kwargs\n",
    "        \n",
    "        self.mixed_a = mixed_a\n",
    "        \n",
    "        self.pool = {'max'   : MaxPool,\n",
    "                     'avg'   : AvgPool,\n",
    "                     'mixed' : partial(MaxAvgPooling, a = self.mixed_a)}\n",
    "        \n",
    "        self.conv = nn.ModuleList([ConvLayer(self.conv_channel_sizes[i-1], self.conv_channel_sizes[i], ndim=1, **self.conv_kwargs) \n",
    "                                   for i in range(1, len(self.conv_channel_sizes))])\n",
    "        \n",
    "        self.pooling = nn.ModuleList([self.pool[self.pooling_type](kernel_size, ndim = 1, **self.pool_kwargs)\n",
    "                                      for kernel_size in self.pooling_kernel_sizes])\n",
    "        \n",
    "    def forward(self, x):\n",
    "        #print(f\"INPUT SHAPE: {x.shape}\")\n",
    "        for i in range(len(self.conv)):\n",
    "            x = self.conv[i](x)\n",
    "            #print(f\"CONV OUTPUT SHAPE: {x.shape}\")\n",
    "            x = self.pooling[i](x)\n",
    "            #print(f\"POOL OUTPUT SHAPE: {x.shape}\")\n",
    "            \n",
    "        return x"
   ]
  },
  {
   "cell_type": "code",
   "execution_count": 28,
   "metadata": {},
   "outputs": [
    {
     "name": "stdout",
     "output_type": "stream",
     "text": [
      "INPUT SHAPE: torch.Size([32, 112, 1024])\n",
      "CONV OUTPUT SHAPE: torch.Size([32, 93, 1024])\n",
      "POOL OUTPUT SHAPE: torch.Size([32, 93, 512])\n",
      "CONV OUTPUT SHAPE: torch.Size([32, 75, 512])\n",
      "POOL OUTPUT SHAPE: torch.Size([32, 75, 256])\n",
      "CONV OUTPUT SHAPE: torch.Size([32, 56, 256])\n",
      "POOL OUTPUT SHAPE: torch.Size([32, 56, 128])\n",
      "CONV OUTPUT SHAPE: torch.Size([32, 38, 128])\n",
      "POOL OUTPUT SHAPE: torch.Size([32, 38, 64])\n",
      "CONV OUTPUT SHAPE: torch.Size([32, 20, 64])\n",
      "POOL OUTPUT SHAPE: torch.Size([32, 20, 32])\n",
      "Prot success\n"
     ]
    }
   ],
   "source": [
    "# Mess around with ConvPool args to see what works best for arguments\n",
    "\n",
    "\n",
    "convpool = ConvPoolBlock(conv_channel_sizes = [112,93,75,56,38,20], \n",
    "                         pooling_kernel_sizes = 2,\n",
    "                         conv_kwargs = {'ks':5, 'act_cls':nn.LeakyReLU},\n",
    "                         pooling_type = 'avg')\n",
    "\n",
    "convpool(prot_Y)\n",
    "print(\"Prot success\")\n",
    "\n",
    "# convpool(rna_Y)\n",
    "# print(\"RNA success\")\n",
    "# convpool = ConvPoolBlock(conv_channel_sizes = [100,50,25], \n",
    "#                          pooling_kernel_sizes = 2, pooling_type = 'mixed', mixed_a = 0.5)\n",
    "# convpool(rna_Y)\n",
    "# print(\"RNA success\")"
   ]
  },
  {
   "cell_type": "code",
   "execution_count": 73,
   "metadata": {},
   "outputs": [
    {
     "data": {
      "text/plain": [
       "array([112.,  66.,  20.])"
      ]
     },
     "execution_count": 73,
     "metadata": {},
     "output_type": "execute_result"
    }
   ],
   "source": [
    "np.linspace(112,20,3)"
   ]
  },
  {
   "cell_type": "code",
   "execution_count": 83,
   "metadata": {},
   "outputs": [],
   "source": [
    "from torch.nn.modules.activation import *"
   ]
  },
  {
   "cell_type": "code",
   "execution_count": 84,
   "metadata": {},
   "outputs": [
    {
     "data": {
      "text/plain": [
       "{'hidden_sizes': [100]}"
      ]
     },
     "execution_count": 84,
     "metadata": {},
     "output_type": "execute_result"
    }
   ],
   "source": [
    "protein_params"
   ]
  },
  {
   "cell_type": "code",
   "execution_count": 85,
   "metadata": {},
   "outputs": [
    {
     "ename": "NameError",
     "evalue": "name 'initialize_default_block' is not defined",
     "output_type": "error",
     "traceback": [
      "\u001b[0;31m---------------------------------------------------------------------------\u001b[0m",
      "\u001b[0;31mNameError\u001b[0m                                 Traceback (most recent call last)",
      "\u001b[0;32m<ipython-input-85-aeed7cd76870>\u001b[0m in \u001b[0;36m<module>\u001b[0;34m\u001b[0m\n\u001b[1;32m      1\u001b[0m \u001b[0mBLOCK\u001b[0m \u001b[0;34m=\u001b[0m \u001b[0mblocks\u001b[0m\u001b[0;34m[\u001b[0m\u001b[0;36m3\u001b[0m\u001b[0;34m]\u001b[0m\u001b[0;34m\u001b[0m\u001b[0;34m\u001b[0m\u001b[0m\n\u001b[0;32m----> 2\u001b[0;31m \u001b[0minitialize_default_block\u001b[0m\u001b[0;34m(\u001b[0m\u001b[0mBLOCK\u001b[0m\u001b[0;34m,\u001b[0m \u001b[0;36m1024\u001b[0m\u001b[0;34m,\u001b[0m \u001b[0mdefault_hyperparam_handler\u001b[0m\u001b[0;34m.\u001b[0m\u001b[0mdefault_params\u001b[0m\u001b[0;34m[\u001b[0m\u001b[0mBLOCK\u001b[0m\u001b[0;34m]\u001b[0m\u001b[0;34m)\u001b[0m\u001b[0;34m\u001b[0m\u001b[0;34m\u001b[0m\u001b[0m\n\u001b[0m",
      "\u001b[0;31mNameError\u001b[0m: name 'initialize_default_block' is not defined"
     ]
    }
   ],
   "source": [
    "BLOCK = blocks[3] \n",
    "initialize_default_block(BLOCK, 1024, default_hyperparam_handler.default_params[BLOCK])"
   ]
  },
  {
   "cell_type": "code",
   "execution_count": 86,
   "metadata": {},
   "outputs": [
    {
     "ename": "NameError",
     "evalue": "name 'initialize_default_block' is not defined",
     "output_type": "error",
     "traceback": [
      "\u001b[0;31m---------------------------------------------------------------------------\u001b[0m",
      "\u001b[0;31mNameError\u001b[0m                                 Traceback (most recent call last)",
      "\u001b[0;32m<ipython-input-86-1d90066afa18>\u001b[0m in \u001b[0;36m<module>\u001b[0;34m\u001b[0m\n\u001b[0;32m----> 1\u001b[0;31m \u001b[0mprot_block\u001b[0m \u001b[0;34m=\u001b[0m \u001b[0minitialize_default_block\u001b[0m\u001b[0;34m(\u001b[0m\u001b[0;34m\"Dense\"\u001b[0m\u001b[0;34m,\u001b[0m \u001b[0;36m1024\u001b[0m\u001b[0;34m,\u001b[0m \u001b[0mprotein_params\u001b[0m\u001b[0;34m)\u001b[0m\u001b[0;34m\u001b[0m\u001b[0;34m\u001b[0m\u001b[0m\n\u001b[0m",
      "\u001b[0;31mNameError\u001b[0m: name 'initialize_default_block' is not defined"
     ]
    }
   ],
   "source": [
    "prot_block = initialize_default_block(\"Dense\", 1024, protein_params)"
   ]
  },
  {
   "cell_type": "code",
   "execution_count": null,
   "metadata": {},
   "outputs": [],
   "source": [
    "prot_block"
   ]
  },
  {
   "cell_type": "code",
   "execution_count": null,
   "metadata": {},
   "outputs": [],
   "source": [
    "protein_params"
   ]
  },
  {
   "cell_type": "code",
   "execution_count": null,
   "metadata": {},
   "outputs": [],
   "source": [
    "#######################################################\n",
    "# Initialize and train model (80-10-10 train-test-val)\n",
    "#######################################################    \n",
    "protein_block = initialize_default_block(X)\n",
    "rna_block     = initialize_default_block(X)"
   ]
  },
  {
   "cell_type": "code",
   "execution_count": 87,
   "metadata": {},
   "outputs": [
    {
     "ename": "NameError",
     "evalue": "name 'input_calculator' is not defined",
     "output_type": "error",
     "traceback": [
      "\u001b[0;31m---------------------------------------------------------------------------\u001b[0m",
      "\u001b[0;31mNameError\u001b[0m                                 Traceback (most recent call last)",
      "\u001b[0;32m<ipython-input-87-7b11406c53b3>\u001b[0m in \u001b[0;36m<module>\u001b[0;34m\u001b[0m\n\u001b[1;32m      1\u001b[0m \u001b[0;31m# REPAIR INPUT CALCULATOR CLASS\u001b[0m\u001b[0;34m\u001b[0m\u001b[0;34m\u001b[0m\u001b[0;34m\u001b[0m\u001b[0m\n\u001b[1;32m      2\u001b[0m \u001b[0;31m# input_calculator = InputSizeCalculator()\u001b[0m\u001b[0;34m\u001b[0m\u001b[0;34m\u001b[0m\u001b[0;34m\u001b[0m\u001b[0m\n\u001b[0;32m----> 3\u001b[0;31m input_size = input_calculator.calcualte_input_shape(rna_blocks  = [rna_block.cpu()], \n\u001b[0m\u001b[1;32m      4\u001b[0m                                                     prot_blocks = [protein_block.cpu()])\n\u001b[1;32m      5\u001b[0m \u001b[0;34m\u001b[0m\u001b[0m\n",
      "\u001b[0;31mNameError\u001b[0m: name 'input_calculator' is not defined"
     ]
    }
   ],
   "source": [
    "\n",
    "\n",
    "# REPAIR INPUT CALCULATOR CLASS\n",
    "# input_calculator = InputSizeCalculator()\n",
    "input_size = input_calculator.calcualte_input_shape(rna_blocks  = [rna_block.cpu()], \n",
    "                                                    prot_blocks = [protein_block.cpu()])\n",
    "\n",
    "model_model = MainModel(rna_blocks  = [rna_block],\n",
    "                        prot_blocks = [protein_block],\n",
    "                        dense_input_size = input_size,\n",
    "                        dense_hidden_layers = [5000,2500,1250,625,322,161,80,40,20], \n",
    "                        p = 0.2,\n",
    "                        act = nn.LeakyReLU()).cuda()\n",
    "\n",
    "learner = Learner(loaders, model,\n",
    "                  loss_func = nn.BCELoss(),\n",
    "                  splitter = main_model_splitter,\n",
    "                  model_dir = '.'\n",
    "                  )\n",
    "\n",
    "lr_min, lr_steep = learner.lr_find()\n",
    "learner.fit_one_cycle(10, lr_max = slice(lr_steep, lr_min))"
   ]
  },
  {
   "cell_type": "markdown",
   "metadata": {},
   "source": [
    "# Old, but might still be useful sometime"
   ]
  },
  {
   "cell_type": "code",
   "execution_count": null,
   "metadata": {},
   "outputs": [],
   "source": [
    "import pandas as pd\n",
    "from sklearn.preprocessing import KBinsDiscretizer\n",
    "from torch.utils.data import WeightedRandomSampler\n",
    "import torch\n",
    "\n",
    "import random \n",
    "\n",
    "SEED = 255\n",
    "POSITIVE_SAMPLES = 12161\n",
    "PAIRS = round(POSITIVE_SAMPLES / 2)"
   ]
  },
  {
   "cell_type": "code",
   "execution_count": null,
   "metadata": {},
   "outputs": [],
   "source": [
    "PAIRS"
   ]
  },
  {
   "cell_type": "markdown",
   "metadata": {},
   "source": [
    "## FIRE negative scoring gradient sampling"
   ]
  },
  {
   "cell_type": "code",
   "execution_count": 88,
   "metadata": {},
   "outputs": [
    {
     "data": {
      "text/html": [
       "<div>\n",
       "<style scoped>\n",
       "    .dataframe tbody tr th:only-of-type {\n",
       "        vertical-align: middle;\n",
       "    }\n",
       "\n",
       "    .dataframe tbody tr th {\n",
       "        vertical-align: top;\n",
       "    }\n",
       "\n",
       "    .dataframe thead th {\n",
       "        text-align: right;\n",
       "    }\n",
       "</style>\n",
       "<table border=\"1\" class=\"dataframe\">\n",
       "  <thead>\n",
       "    <tr style=\"text-align: right;\">\n",
       "      <th></th>\n",
       "      <th>uniprot1</th>\n",
       "      <th>uniprot2</th>\n",
       "      <th>seq_similarity</th>\n",
       "      <th>func_similarity</th>\n",
       "      <th>domain_similarity</th>\n",
       "      <th>similarity_score</th>\n",
       "      <th>species</th>\n",
       "    </tr>\n",
       "  </thead>\n",
       "  <tbody>\n",
       "    <tr>\n",
       "      <th>0</th>\n",
       "      <td>P61014</td>\n",
       "      <td>Q30KN4</td>\n",
       "      <td>0.00</td>\n",
       "      <td>0.00</td>\n",
       "      <td>0.00</td>\n",
       "      <td>0.00</td>\n",
       "      <td>Mus musculus</td>\n",
       "    </tr>\n",
       "    <tr>\n",
       "      <th>1</th>\n",
       "      <td>Q9JHY3</td>\n",
       "      <td>P63213</td>\n",
       "      <td>0.00</td>\n",
       "      <td>0.00</td>\n",
       "      <td>0.00</td>\n",
       "      <td>0.00</td>\n",
       "      <td>Mus musculus</td>\n",
       "    </tr>\n",
       "    <tr>\n",
       "      <th>2</th>\n",
       "      <td>P35754</td>\n",
       "      <td>Q8N6N7</td>\n",
       "      <td>0.00</td>\n",
       "      <td>0.00</td>\n",
       "      <td>0.00</td>\n",
       "      <td>0.00</td>\n",
       "      <td>Homo sapiens</td>\n",
       "    </tr>\n",
       "    <tr>\n",
       "      <th>3</th>\n",
       "      <td>P35754</td>\n",
       "      <td>Q9NZ45</td>\n",
       "      <td>0.00</td>\n",
       "      <td>0.00</td>\n",
       "      <td>0.00</td>\n",
       "      <td>0.00</td>\n",
       "      <td>Homo sapiens</td>\n",
       "    </tr>\n",
       "    <tr>\n",
       "      <th>4</th>\n",
       "      <td>P35754</td>\n",
       "      <td>O14625</td>\n",
       "      <td>0.00</td>\n",
       "      <td>0.00</td>\n",
       "      <td>0.00</td>\n",
       "      <td>0.00</td>\n",
       "      <td>Homo sapiens</td>\n",
       "    </tr>\n",
       "    <tr>\n",
       "      <th>...</th>\n",
       "      <td>...</td>\n",
       "      <td>...</td>\n",
       "      <td>...</td>\n",
       "      <td>...</td>\n",
       "      <td>...</td>\n",
       "      <td>...</td>\n",
       "      <td>...</td>\n",
       "    </tr>\n",
       "    <tr>\n",
       "      <th>4190</th>\n",
       "      <td>P13500</td>\n",
       "      <td>P80098</td>\n",
       "      <td>0.74</td>\n",
       "      <td>0.30</td>\n",
       "      <td>1.00</td>\n",
       "      <td>0.68</td>\n",
       "      <td>Homo sapiens</td>\n",
       "    </tr>\n",
       "    <tr>\n",
       "      <th>4191</th>\n",
       "      <td>P51671</td>\n",
       "      <td>P80098</td>\n",
       "      <td>0.69</td>\n",
       "      <td>0.40</td>\n",
       "      <td>1.00</td>\n",
       "      <td>0.70</td>\n",
       "      <td>Homo sapiens</td>\n",
       "    </tr>\n",
       "    <tr>\n",
       "      <th>4192</th>\n",
       "      <td>P09341</td>\n",
       "      <td>P19876</td>\n",
       "      <td>0.87</td>\n",
       "      <td>0.50</td>\n",
       "      <td>1.00</td>\n",
       "      <td>0.79</td>\n",
       "      <td>Homo sapiens</td>\n",
       "    </tr>\n",
       "    <tr>\n",
       "      <th>4193</th>\n",
       "      <td>Q96FJ2</td>\n",
       "      <td>P63167</td>\n",
       "      <td>0.93</td>\n",
       "      <td>0.46</td>\n",
       "      <td>1.00</td>\n",
       "      <td>0.80</td>\n",
       "      <td>Homo sapiens</td>\n",
       "    </tr>\n",
       "    <tr>\n",
       "      <th>4194</th>\n",
       "      <td>P61024</td>\n",
       "      <td>P33552</td>\n",
       "      <td>0.81</td>\n",
       "      <td>0.69</td>\n",
       "      <td>1.00</td>\n",
       "      <td>0.83</td>\n",
       "      <td>Homo sapiens</td>\n",
       "    </tr>\n",
       "  </tbody>\n",
       "</table>\n",
       "<p>4195 rows × 7 columns</p>\n",
       "</div>"
      ],
      "text/plain": [
       "     uniprot1 uniprot2  seq_similarity  func_similarity  domain_similarity  \\\n",
       "0      P61014   Q30KN4            0.00             0.00               0.00   \n",
       "1      Q9JHY3   P63213            0.00             0.00               0.00   \n",
       "2      P35754   Q8N6N7            0.00             0.00               0.00   \n",
       "3      P35754   Q9NZ45            0.00             0.00               0.00   \n",
       "4      P35754   O14625            0.00             0.00               0.00   \n",
       "...       ...      ...             ...              ...                ...   \n",
       "4190   P13500   P80098            0.74             0.30               1.00   \n",
       "4191   P51671   P80098            0.69             0.40               1.00   \n",
       "4192   P09341   P19876            0.87             0.50               1.00   \n",
       "4193   Q96FJ2   P63167            0.93             0.46               1.00   \n",
       "4194   P61024   P33552            0.81             0.69               1.00   \n",
       "\n",
       "      similarity_score       species  \n",
       "0                 0.00  Mus musculus  \n",
       "1                 0.00  Mus musculus  \n",
       "2                 0.00  Homo sapiens  \n",
       "3                 0.00  Homo sapiens  \n",
       "4                 0.00  Homo sapiens  \n",
       "...                ...           ...  \n",
       "4190              0.68  Homo sapiens  \n",
       "4191              0.70  Homo sapiens  \n",
       "4192              0.79  Homo sapiens  \n",
       "4193              0.80  Homo sapiens  \n",
       "4194              0.83  Homo sapiens  \n",
       "\n",
       "[4195 rows x 7 columns]"
      ]
     },
     "execution_count": 88,
     "metadata": {},
     "output_type": "execute_result"
    }
   ],
   "source": [
    "SIMILARITY_FRAME_PATH = \"../Data/TrainingData/NegativeSamples/small_interaction_similarity_frame.csv\"\n",
    "fire_df = pd.read_csv(SIMILARITY_FRAME_PATH)\n",
    "fire_df"
   ]
  },
  {
   "cell_type": "code",
   "execution_count": 89,
   "metadata": {},
   "outputs": [
    {
     "data": {
      "text/html": [
       "<div>\n",
       "<style scoped>\n",
       "    .dataframe tbody tr th:only-of-type {\n",
       "        vertical-align: middle;\n",
       "    }\n",
       "\n",
       "    .dataframe tbody tr th {\n",
       "        vertical-align: top;\n",
       "    }\n",
       "\n",
       "    .dataframe thead th {\n",
       "        text-align: right;\n",
       "    }\n",
       "</style>\n",
       "<table border=\"1\" class=\"dataframe\">\n",
       "  <thead>\n",
       "    <tr style=\"text-align: right;\">\n",
       "      <th></th>\n",
       "      <th>uniprot1</th>\n",
       "      <th>uniprot2</th>\n",
       "      <th>seq_similarity</th>\n",
       "      <th>func_similarity</th>\n",
       "      <th>domain_similarity</th>\n",
       "      <th>similarity_score</th>\n",
       "      <th>species</th>\n",
       "    </tr>\n",
       "  </thead>\n",
       "  <tbody>\n",
       "    <tr>\n",
       "      <th>4194</th>\n",
       "      <td>P61024</td>\n",
       "      <td>P33552</td>\n",
       "      <td>0.81</td>\n",
       "      <td>0.69</td>\n",
       "      <td>1.00</td>\n",
       "      <td>0.83</td>\n",
       "      <td>Homo sapiens</td>\n",
       "    </tr>\n",
       "    <tr>\n",
       "      <th>4193</th>\n",
       "      <td>Q96FJ2</td>\n",
       "      <td>P63167</td>\n",
       "      <td>0.93</td>\n",
       "      <td>0.46</td>\n",
       "      <td>1.00</td>\n",
       "      <td>0.80</td>\n",
       "      <td>Homo sapiens</td>\n",
       "    </tr>\n",
       "    <tr>\n",
       "      <th>4192</th>\n",
       "      <td>P09341</td>\n",
       "      <td>P19876</td>\n",
       "      <td>0.87</td>\n",
       "      <td>0.50</td>\n",
       "      <td>1.00</td>\n",
       "      <td>0.79</td>\n",
       "      <td>Homo sapiens</td>\n",
       "    </tr>\n",
       "  </tbody>\n",
       "</table>\n",
       "</div>"
      ],
      "text/plain": [
       "     uniprot1 uniprot2  seq_similarity  func_similarity  domain_similarity  \\\n",
       "4194   P61024   P33552            0.81             0.69               1.00   \n",
       "4193   Q96FJ2   P63167            0.93             0.46               1.00   \n",
       "4192   P09341   P19876            0.87             0.50               1.00   \n",
       "\n",
       "      similarity_score       species  \n",
       "4194              0.83  Homo sapiens  \n",
       "4193              0.80  Homo sapiens  \n",
       "4192              0.79  Homo sapiens  "
      ]
     },
     "execution_count": 89,
     "metadata": {},
     "output_type": "execute_result"
    }
   ],
   "source": [
    "fire_df.sort_values('similarity_score', ascending=False).iloc[:3]"
   ]
  },
  {
   "cell_type": "code",
   "execution_count": 90,
   "metadata": {},
   "outputs": [],
   "source": [
    "bin_assigner = KBinsDiscretizer(n_bins=10, encode='ordinal')\n",
    "fire_bins    = bin_assigner.fit_transform(fire_df['similarity_score'].values.reshape(-1, 1) ).squeeze().astype(int)"
   ]
  },
  {
   "cell_type": "code",
   "execution_count": 91,
   "metadata": {},
   "outputs": [],
   "source": [
    "def plot_kbin_data(df, x, y, ax, **kwargs):\n",
    "    sbn.boxplot(x = x, y = y, data = df, ax = ax, **kwargs)\n",
    "    ax.set_title(\"Score bins\")\n",
    "    ax.set_xlabel(\"bins\")"
   ]
  },
  {
   "cell_type": "code",
   "execution_count": 92,
   "metadata": {},
   "outputs": [],
   "source": [
    "def plot_score_distributions(df, x, score_bins, ax, **kwargs):\n",
    "    sbn.histplot(x=x, hue=score_bins, data = df, ax = ax, **kwargs)\n",
    "    ax.set_title(\"Score distribution\")\n",
    "    leg = ax.get_legend()\n",
    "    leg.set_title(\"bins\")"
   ]
  },
  {
   "cell_type": "code",
   "execution_count": null,
   "metadata": {},
   "outputs": [],
   "source": [
    "fig, axes = plt.subplots(1,2, figsize = (6,3))\n",
    "\n",
    "# fig.suptitle(\"FIRE similarity score quantile split\")\n",
    "\n",
    "plot_kbin_data(fire_df, fire_bins, \"similarity_score\", axes[0])\n",
    "plot_score_distributions(fire_df, \"similarity_score\", fire_bins, axes[1])\n",
    "\n",
    "plt.tight_layout()\n",
    "sbn.despine()\n",
    "\n",
    "# if FIGPATH:\n",
    "#     plt.savefig(FIGPATH, dpi = 300)"
   ]
  },
  {
   "cell_type": "code",
   "execution_count": null,
   "metadata": {},
   "outputs": [],
   "source": []
  },
  {
   "cell_type": "markdown",
   "metadata": {},
   "source": [
    "The above graphs suggest that the dataset is so 0 heavy that it can't even be split into 10 quantiles. For the 4 quantiles it does generate, the score is so imbalanced that negative sampling wouldn't be viable here. "
   ]
  },
  {
   "cell_type": "markdown",
   "metadata": {},
   "source": [
    "## SAE vector-difference magnitude scoring gradient sampling"
   ]
  },
  {
   "cell_type": "code",
   "execution_count": 94,
   "metadata": {},
   "outputs": [
    {
     "data": {
      "text/html": [
       "<div>\n",
       "<style scoped>\n",
       "    .dataframe tbody tr th:only-of-type {\n",
       "        vertical-align: middle;\n",
       "    }\n",
       "\n",
       "    .dataframe tbody tr th {\n",
       "        vertical-align: top;\n",
       "    }\n",
       "\n",
       "    .dataframe thead th {\n",
       "        text-align: right;\n",
       "    }\n",
       "</style>\n",
       "<table border=\"1\" class=\"dataframe\">\n",
       "  <thead>\n",
       "    <tr style=\"text-align: right;\">\n",
       "      <th></th>\n",
       "      <th>Protein_name</th>\n",
       "      <th>NCBI_GeneID</th>\n",
       "      <th>Protein_Type</th>\n",
       "      <th>Also_species</th>\n",
       "      <th>proteins</th>\n",
       "      <th>Protein_name.1</th>\n",
       "      <th>NCBI_GeneID.1</th>\n",
       "      <th>Protein_Type.1</th>\n",
       "      <th>Also_species.1</th>\n",
       "      <th>proteins.1</th>\n",
       "      <th>difference_magnitudes</th>\n",
       "    </tr>\n",
       "  </thead>\n",
       "  <tbody>\n",
       "    <tr>\n",
       "      <th>0</th>\n",
       "      <td>RPL41</td>\n",
       "      <td>6171.00</td>\n",
       "      <td>protein</td>\n",
       "      <td>Homo sapiens</td>\n",
       "      <td>MRAKWRKKRMRRLKRKRRKMRQRSK</td>\n",
       "      <td>KRTAP19-1</td>\n",
       "      <td>337882.00</td>\n",
       "      <td>protein</td>\n",
       "      <td>Homo sapiens</td>\n",
       "      <td>MSHYGSYYGGLGYSCGGFGGLGYGYGCGCGSFCRRGSGCGYGGYGYGSGFGSYGYGSGFGGYGYGSGFGGYGYGCCRPSYNGGYGFSGFY</td>\n",
       "      <td>24.88</td>\n",
       "    </tr>\n",
       "    <tr>\n",
       "      <th>1</th>\n",
       "      <td>RPL41</td>\n",
       "      <td>6171.00</td>\n",
       "      <td>protein</td>\n",
       "      <td>Homo sapiens</td>\n",
       "      <td>MRAKWRKKRMRRLKRKRRKMRQRSK</td>\n",
       "      <td>KRTAP6-1</td>\n",
       "      <td>337966.00</td>\n",
       "      <td>protein</td>\n",
       "      <td>Homo sapiens</td>\n",
       "      <td>MCGSYYGNYYGTPGYGFCGYGGLGYGYGGLGCGYGSCCGCGFRRLGCGYGYGSRSLCGYGYGCGSGSGYYY</td>\n",
       "      <td>24.50</td>\n",
       "    </tr>\n",
       "    <tr>\n",
       "      <th>2</th>\n",
       "      <td>Lyrm7</td>\n",
       "      <td>75530.00</td>\n",
       "      <td>protein</td>\n",
       "      <td>Mus musculus</td>\n",
       "      <td>MGQPAKVLQLFKTLHRTRQQVFKNDKRALEAARVKINEEFKKHKNETSPEKIKEMMKLGSDVELLLRTAVIQGIHTDHDTLQLVPRKDLLTENVPYCDAPTQKQ</td>\n",
       "      <td>Prm1</td>\n",
       "      <td>19118.00</td>\n",
       "      <td>TF</td>\n",
       "      <td>Mus musculus</td>\n",
       "      <td>MARYRCCRSKSRSRCRRRRRRCRRRRRRCCRRRRRRCCRRRRSYTIRCKKY</td>\n",
       "      <td>24.30</td>\n",
       "    </tr>\n",
       "    <tr>\n",
       "      <th>3</th>\n",
       "      <td>LYRM7</td>\n",
       "      <td>90624.00</td>\n",
       "      <td>protein</td>\n",
       "      <td>Homo sapiens</td>\n",
       "      <td>MGRAVKVLQLFKTLHRTRQQVFKNDARALEAARIKINEEFKNNKSETSSKKIEELMKIGSDVELLLRTSVIQGIHTDHNTLKLVPRKDLLVENVPYCDAPTQKQ</td>\n",
       "      <td>Prm1</td>\n",
       "      <td>19118.00</td>\n",
       "      <td>TF</td>\n",
       "      <td>Mus musculus</td>\n",
       "      <td>MARYRCCRSKSRSRCRRRRRRCRRRRRRCCRRRRRRCCRRRRSYTIRCKKY</td>\n",
       "      <td>24.22</td>\n",
       "    </tr>\n",
       "    <tr>\n",
       "      <th>4</th>\n",
       "      <td>SRP9</td>\n",
       "      <td>6726.00</td>\n",
       "      <td>protein</td>\n",
       "      <td>Homo sapiens</td>\n",
       "      <td>MPQYQTWEEFSRAAEKLYLADPMKARVVLKYRHSDGNLCVKVTDDLVCLVYKTDQAQDVKKIEKFHSQLMRLMVAKEARNVTMETE</td>\n",
       "      <td>Prm1</td>\n",
       "      <td>19118.00</td>\n",
       "      <td>TF</td>\n",
       "      <td>Mus musculus</td>\n",
       "      <td>MARYRCCRSKSRSRCRRRRRRCRRRRRRCCRRRRRRCCRRRRSYTIRCKKY</td>\n",
       "      <td>24.10</td>\n",
       "    </tr>\n",
       "  </tbody>\n",
       "</table>\n",
       "</div>"
      ],
      "text/plain": [
       "  Protein_name  NCBI_GeneID Protein_Type  Also_species  \\\n",
       "0        RPL41      6171.00      protein  Homo sapiens   \n",
       "1        RPL41      6171.00      protein  Homo sapiens   \n",
       "2        Lyrm7     75530.00      protein  Mus musculus   \n",
       "3        LYRM7     90624.00      protein  Homo sapiens   \n",
       "4         SRP9      6726.00      protein  Homo sapiens   \n",
       "\n",
       "                                                                                                   proteins  \\\n",
       "0                                                                                 MRAKWRKKRMRRLKRKRRKMRQRSK   \n",
       "1                                                                                 MRAKWRKKRMRRLKRKRRKMRQRSK   \n",
       "2  MGQPAKVLQLFKTLHRTRQQVFKNDKRALEAARVKINEEFKKHKNETSPEKIKEMMKLGSDVELLLRTAVIQGIHTDHDTLQLVPRKDLLTENVPYCDAPTQKQ   \n",
       "3  MGRAVKVLQLFKTLHRTRQQVFKNDARALEAARIKINEEFKNNKSETSSKKIEELMKIGSDVELLLRTSVIQGIHTDHNTLKLVPRKDLLVENVPYCDAPTQKQ   \n",
       "4                    MPQYQTWEEFSRAAEKLYLADPMKARVVLKYRHSDGNLCVKVTDDLVCLVYKTDQAQDVKKIEKFHSQLMRLMVAKEARNVTMETE   \n",
       "\n",
       "  Protein_name.1  NCBI_GeneID.1 Protein_Type.1 Also_species.1  \\\n",
       "0      KRTAP19-1      337882.00        protein   Homo sapiens   \n",
       "1       KRTAP6-1      337966.00        protein   Homo sapiens   \n",
       "2           Prm1       19118.00             TF   Mus musculus   \n",
       "3           Prm1       19118.00             TF   Mus musculus   \n",
       "4           Prm1       19118.00             TF   Mus musculus   \n",
       "\n",
       "                                                                                   proteins.1  \\\n",
       "0  MSHYGSYYGGLGYSCGGFGGLGYGYGCGCGSFCRRGSGCGYGGYGYGSGFGSYGYGSGFGGYGYGSGFGGYGYGCCRPSYNGGYGFSGFY   \n",
       "1                     MCGSYYGNYYGTPGYGFCGYGGLGYGYGGLGCGYGSCCGCGFRRLGCGYGYGSRSLCGYGYGCGSGSGYYY   \n",
       "2                                         MARYRCCRSKSRSRCRRRRRRCRRRRRRCCRRRRRRCCRRRRSYTIRCKKY   \n",
       "3                                         MARYRCCRSKSRSRCRRRRRRCRRRRRRCCRRRRRRCCRRRRSYTIRCKKY   \n",
       "4                                         MARYRCCRSKSRSRCRRRRRRCRRRRRRCCRRRRRRCCRRRRSYTIRCKKY   \n",
       "\n",
       "   difference_magnitudes  \n",
       "0                  24.88  \n",
       "1                  24.50  \n",
       "2                  24.30  \n",
       "3                  24.22  \n",
       "4                  24.10  "
      ]
     },
     "execution_count": 94,
     "metadata": {},
     "output_type": "execute_result"
    }
   ],
   "source": [
    "sae_df = pd.read_csv('../Data/TrainingData/NegativeSamples/latent_protein_pair_differences.csv')\n",
    "sae_df.head()"
   ]
  },
  {
   "cell_type": "code",
   "execution_count": 77,
   "metadata": {},
   "outputs": [
    {
     "data": {
      "text/plain": [
       "(60726, 11)"
      ]
     },
     "execution_count": 77,
     "metadata": {},
     "output_type": "execute_result"
    }
   ],
   "source": [
    "sae_df.shape"
   ]
  },
  {
   "cell_type": "code",
   "execution_count": 78,
   "metadata": {},
   "outputs": [],
   "source": [
    "bin_assigner = KBinsDiscretizer(n_bins=10, encode='ordinal')\n",
    "sae_bins     = bin_assigner.fit_transform(sae_df['difference_magnitudes'].values.reshape(-1, 1) ).squeeze().astype(int)"
   ]
  },
  {
   "cell_type": "code",
   "execution_count": 79,
   "metadata": {},
   "outputs": [
    {
     "ename": "NameError",
     "evalue": "name 'generate_highest_or_lowest_samples' is not defined",
     "output_type": "error",
     "traceback": [
      "\u001b[0;31m---------------------------------------------------------------------------\u001b[0m",
      "\u001b[0;31mNameError\u001b[0m                                 Traceback (most recent call last)",
      "\u001b[0;32m<ipython-input-79-66bc941b9d62>\u001b[0m in \u001b[0;36m<module>\u001b[0;34m\u001b[0m\n\u001b[0;32m----> 1\u001b[0;31m \u001b[0mgenerate_highest_or_lowest_samples\u001b[0m\u001b[0;34m(\u001b[0m\u001b[0msae_df\u001b[0m\u001b[0;34m,\u001b[0m \u001b[0;34m'difference_magnitudes'\u001b[0m\u001b[0;34m,\u001b[0m \u001b[0mPAIRS\u001b[0m\u001b[0;34m,\u001b[0m \u001b[0mhighest\u001b[0m \u001b[0;34m=\u001b[0m \u001b[0;32mFalse\u001b[0m\u001b[0;34m)\u001b[0m\u001b[0;34m\u001b[0m\u001b[0;34m\u001b[0m\u001b[0m\n\u001b[0m",
      "\u001b[0;31mNameError\u001b[0m: name 'generate_highest_or_lowest_samples' is not defined"
     ]
    }
   ],
   "source": [
    "generate_highest_or_lowest_samples(sae_df, 'difference_magnitudes', PAIRS, highest = False)"
   ]
  },
  {
   "cell_type": "code",
   "execution_count": null,
   "metadata": {},
   "outputs": [],
   "source": [
    "sae_df['bin'] = sae_bins\n",
    "\n",
    "fig, axes = plt.subplots(2,4, figsize = (5,5), sharey = True, sharex = True)\n",
    "\n",
    "i = 0\n",
    "\n",
    "for distribution in SAMPLING_DISTRIBUTIONS.keys():\n",
    "    \n",
    "    n = i>3\n",
    "    k = i if i <= 3 else i - 4\n",
    "    \n",
    "    WEIGHT_ASSIGNER = dict(zip(range(10), SAMPLING_DISTRIBUTIONS[distribution]))\n",
    "    \n",
    "    sae_df['weights'] = sae_df['bin'].apply(lambda x: WEIGHT_ASSIGNER[x])\n",
    "\n",
    "    torch.manual_seed(SEED)\n",
    "    negative_pair_idx = list(WeightedRandomSampler(sae_df['weights'], PAIRS, replacement=False))\n",
    "    \n",
    "    sbn.countplot(x = \"bin\", data = sae_df.iloc[negative_pair_idx], \n",
    "                  ax = axes[int(n),k], palette= 'summer')\n",
    "    \n",
    "    axes[int(n),k].set_title(distribution.replace('_','\\n'))\n",
    "    \n",
    "    i += 1\n",
    "\n",
    "plt.tight_layout()\n",
    "sbn.despine()"
   ]
  },
  {
   "cell_type": "code",
   "execution_count": null,
   "metadata": {},
   "outputs": [],
   "source": []
  },
  {
   "cell_type": "code",
   "execution_count": null,
   "metadata": {},
   "outputs": [],
   "source": [
    "FIGPATH = \"FIRE_and_SAE_scoring_distributions.png\"\n",
    "\n",
    "fig, axes = plt.subplots(2,2, figsize = (6,8))\n",
    "\n",
    "PALETTE_ONE = 'Blues_r'\n",
    "PALETTE_TWO = 'Greens'\n",
    "\n",
    "plot_kbin_data(fire_df, fire_bins, \"similarity_score\", axes[0,0])\n",
    "plot_score_distributions(fire_df, \"similarity_score\", fire_bins, axes[0,1], palette = PALETTE_ONE, bins = 50)\n",
    "\n",
    "plot_kbin_data(sae_df, sae_bins, \"difference_magnitudes\", axes[1,0])\n",
    "plot_score_distributions(sae_df, \"difference_magnitudes\", sae_bins, axes[1,1], palette = PALETTE_TWO)\n",
    "\n",
    "axes[0,1].set_xlabel(\"FIRE similarity scores\")\n",
    "axes[1,1].set_xlabel(\"SAE difference magnitudes\")\n",
    "\n",
    "axes[0,1].set_ylim(None, 3000)\n",
    "axes[1,1].set_ylim(None, 1800)\n",
    "axes[0,0].set_ylabel(\"FIRE similarity scores\")\n",
    "axes[1,0].set_ylabel(\"SAE difference magnitudes\")\n",
    "\n",
    "sbn.despine()\n",
    "plt.tight_layout()\n",
    "\n",
    "if FIGPATH:\n",
    "    plt.savefig(FIGPATH, dpi = 300)"
   ]
  },
  {
   "cell_type": "code",
   "execution_count": 80,
   "metadata": {},
   "outputs": [
    {
     "data": {
      "text/plain": [
       "'/data/Chapter_3/Notebooks'"
      ]
     },
     "execution_count": 80,
     "metadata": {},
     "output_type": "execute_result"
    }
   ],
   "source": [
    "pwd"
   ]
  },
  {
   "cell_type": "code",
   "execution_count": null,
   "metadata": {},
   "outputs": [],
   "source": []
  },
  {
   "cell_type": "code",
   "execution_count": null,
   "metadata": {},
   "outputs": [],
   "source": []
  },
  {
   "cell_type": "code",
   "execution_count": null,
   "metadata": {},
   "outputs": [],
   "source": []
  },
  {
   "cell_type": "code",
   "execution_count": null,
   "metadata": {},
   "outputs": [],
   "source": [
    "swaedxs"
   ]
  }
 ],
 "metadata": {
  "kernelspec": {
   "display_name": "NegativeSampling",
   "language": "python",
   "name": "negativesampling"
  },
  "language_info": {
   "codemirror_mode": {
    "name": "ipython",
    "version": 3
   },
   "file_extension": ".py",
   "mimetype": "text/x-python",
   "name": "python",
   "nbconvert_exporter": "python",
   "pygments_lexer": "ipython3",
   "version": "3.8.5"
  }
 },
 "nbformat": 4,
 "nbformat_minor": 4
}
